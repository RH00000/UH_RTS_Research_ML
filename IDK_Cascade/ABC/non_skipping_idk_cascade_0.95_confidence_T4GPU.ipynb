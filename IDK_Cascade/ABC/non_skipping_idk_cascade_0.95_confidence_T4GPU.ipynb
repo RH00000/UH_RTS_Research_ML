{
  "nbformat": 4,
  "nbformat_minor": 0,
  "metadata": {
    "colab": {
      "provenance": [],
      "gpuType": "T4",
      "authorship_tag": "ABX9TyPlA0EHeU9raW/LfUSpEDgW",
      "include_colab_link": true
    },
    "kernelspec": {
      "name": "python3",
      "display_name": "Python 3"
    },
    "language_info": {
      "name": "python"
    },
    "accelerator": "GPU"
  },
  "cells": [
    {
      "cell_type": "markdown",
      "metadata": {
        "id": "view-in-github",
        "colab_type": "text"
      },
      "source": [
        "<a href=\"https://colab.research.google.com/github/RH00000/UH_RTS_Research_ML/blob/main/non_skipping_idk_cascade_0.95_confidence_T4GPU.ipynb\" target=\"_parent\"><img src=\"https://colab.research.google.com/assets/colab-badge.svg\" alt=\"Open In Colab\"/></a>"
      ]
    },
    {
      "cell_type": "code",
      "source": [
        "!pip install torch torchvision tensorflow-datasets"
      ],
      "metadata": {
        "id": "ivrc2earSZrh",
        "collapsed": true
      },
      "execution_count": null,
      "outputs": []
    },
    {
      "cell_type": "code",
      "source": [
        "#Load the ImaageNetV2 TopImages split\n",
        "import tensorflow_datasets as tfds\n",
        "import torch\n",
        "from torch.utils.data import IterableDataset, DataLoader\n",
        "from torchvision import transforms\n",
        "from PIL import Image\n",
        "\n",
        "# 1) Download & prepare the TFDS builder for ImageNetV2 TopImages\n",
        "builder = tfds.builder(\"imagenet_v2\", config=\"topimages\")\n",
        "builder.download_and_prepare()"
      ],
      "metadata": {
        "colab": {
          "base_uri": "https://localhost:8080/",
          "height": 148,
          "referenced_widgets": [
            "f3a081e3af4d4832a2d485627039dcfe",
            "116959dc7a7043e1a2d756c94acc3984",
            "d87ef5285459405396a38ada602dc486",
            "2c84138235a44e888479b634d23b450d",
            "079ea2e00d904855b486c138f3df6099",
            "4204a0bee9824e86ace9b4b8b5bc4808",
            "24bba07f5f0c4ca3b0efb0da07ac09e7",
            "fd845930068943308f75dceb03826c18",
            "e43ec8f264c4491c9ac44fe1440fe8c8",
            "bcb324f481c74d4ca5bffb27bf2d2ffd",
            "c7819a2a31c54d26a394d50a261d1170",
            "eb2ced025c664a65a1cd180e1cd9efc8",
            "56d8d641e5844da38371e0a744b71a6e",
            "c594418dafaf4e1d9c862b0501bd4a33",
            "a05ef6bf7c9645adb16d08d2eac3d85e",
            "3c62e9af72a04c57b78770645c5c32ae",
            "da55823c4e894ba48e872c1cef74cffe",
            "cf9be3a6bddd467388c45a690e459ae3",
            "41a8299e1a28494b83f87845c6954ed4",
            "35704e44cb564c309bc8acd50b901241",
            "65927755f58a4ef4a27e278eae78b620",
            "e8e6c05b32084ca7a64495bf4c7b6209",
            "4ee18d4566ed4b799c8ad201592ccf4c",
            "4a23f9f65f7c417ab2c5efc2c9cb5c3f",
            "d1b2b0d6cfa0470e847483473530b784",
            "2bbe1999904344c2bd85faf58659f590",
            "cdb3a9ae714946d2a37d8835b87aa00f",
            "76989b028b3e4b0aa7a107d97d4cacc9",
            "dc0a79f6dfa64419b25f0d958271e56b",
            "6609c7c4bc0347708ab4678bfdf749c4",
            "66994e7b0d764f1ab85c96fc96c4bcb2",
            "224c033c4c53456c806128b05e1dd20b",
            "c3a1b6c883d2472cb2cec096fca8e6e2",
            "c32566744a1d401cbf4e1b4561047182",
            "4a856c88f62240148e33509c538be6da",
            "3817e1529ed14ee292ca510af475c0b0",
            "3abd5a85600e49c888f38fe3812a3fc7",
            "522a1dc3febe44a4b2f7d0e28d89ac0a",
            "dd0e0e487ad843fd87224171840c3619",
            "5e77462d852e451cb16c1b6f13e9c865",
            "551f76d0b34e4cc785c7b21951f59609",
            "b74e36bcd36c49edbf10ffc808d6d023",
            "93471c310f9c46f395a6caaa1b3baa5b",
            "f571866f2b98485bb6a612c324148bfc",
            "8e1f181c60064617b928ad6357771922",
            "d03328ea337f43c18705c47f7b84f15d",
            "3b2925afa57b47e68c1c2347ab7fd15f",
            "3de849e4f1a1406d9bbe5bc73e1d431b",
            "823aa1cb43514d4abfc0a8a027cc14e5",
            "a6da3ed341464d3bac49081871eb15c3",
            "cfdb3a453e7243d3b13cce1149d86789",
            "6d7ed63798f04a4ebaaedd51b158e0c5",
            "c3663c8f15734f8d9531f46956d71991",
            "822b45d0a34c4dfabd93214df8e4340f",
            "1686f2636e7944448cbad15a319adb2d",
            "bc8b657c26e142ad85b5f4e53cfdbd88",
            "790182fe8c874b05aa7c9a346dea9504",
            "6660a96173ba4bf7b7cf94cba4c4d8f6",
            "4bfdb5ae803a4f2ca4bd174a3846b7b0",
            "01f952391cfc4eaab4313469d409d842",
            "e8a3678c68bf48519ecc4963eb3d1eb3",
            "a2f562f47b3b45858f30194ef04a2fc7",
            "2871babcac7d4ccba2d12540e67edd1a",
            "6e7038f58974406c8d57efb8591b583b",
            "16b532b915a248aa900d123695223ce6",
            "db8ddbb504fb44668e50fda4fedebd59"
          ]
        },
        "id": "GZ_6l-JgVxYU",
        "outputId": "d2ff92ba-6526-4e4b-8ab2-306990e74020"
      },
      "execution_count": 2,
      "outputs": [
        {
          "output_type": "stream",
          "name": "stdout",
          "text": [
            "Downloading and preparing dataset Unknown size (download: Unknown size, generated: Unknown size, total: Unknown size) to /root/tensorflow_datasets/imagenet_v2/topimages/3.0.0...\n"
          ]
        },
        {
          "output_type": "display_data",
          "data": {
            "text/plain": [
              "Dl Completed...: 0 url [00:00, ? url/s]"
            ],
            "application/vnd.jupyter.widget-view+json": {
              "version_major": 2,
              "version_minor": 0,
              "model_id": "f3a081e3af4d4832a2d485627039dcfe"
            }
          },
          "metadata": {}
        },
        {
          "output_type": "display_data",
          "data": {
            "text/plain": [
              "Dl Size...: 0 MiB [00:00, ? MiB/s]"
            ],
            "application/vnd.jupyter.widget-view+json": {
              "version_major": 2,
              "version_minor": 0,
              "model_id": "eb2ced025c664a65a1cd180e1cd9efc8"
            }
          },
          "metadata": {}
        },
        {
          "output_type": "display_data",
          "data": {
            "text/plain": [
              "Extraction completed...: 0 file [00:00, ? file/s]"
            ],
            "application/vnd.jupyter.widget-view+json": {
              "version_major": 2,
              "version_minor": 0,
              "model_id": "4ee18d4566ed4b799c8ad201592ccf4c"
            }
          },
          "metadata": {}
        },
        {
          "output_type": "display_data",
          "data": {
            "text/plain": [
              "Generating splits...:   0%|          | 0/1 [00:00<?, ? splits/s]"
            ],
            "application/vnd.jupyter.widget-view+json": {
              "version_major": 2,
              "version_minor": 0,
              "model_id": "c32566744a1d401cbf4e1b4561047182"
            }
          },
          "metadata": {}
        },
        {
          "output_type": "display_data",
          "data": {
            "text/plain": [
              "Generating test examples...: 0 examples [00:00, ? examples/s]"
            ],
            "application/vnd.jupyter.widget-view+json": {
              "version_major": 2,
              "version_minor": 0,
              "model_id": "8e1f181c60064617b928ad6357771922"
            }
          },
          "metadata": {}
        },
        {
          "output_type": "display_data",
          "data": {
            "text/plain": [
              "Shuffling /root/tensorflow_datasets/imagenet_v2/topimages/incomplete.90C776_3.0.0/imagenet_v2-test.tfrecord*..…"
            ],
            "application/vnd.jupyter.widget-view+json": {
              "version_major": 2,
              "version_minor": 0,
              "model_id": "bc8b657c26e142ad85b5f4e53cfdbd88"
            }
          },
          "metadata": {}
        },
        {
          "output_type": "stream",
          "name": "stdout",
          "text": [
            "Dataset imagenet_v2 downloaded and prepared to /root/tensorflow_datasets/imagenet_v2/topimages/3.0.0. Subsequent calls will reuse this data.\n"
          ]
        }
      ]
    },
    {
      "cell_type": "code",
      "source": [
        "#2 Load the 'test' split (10000 images, top‑images variant)\n",
        "tfds_ds = builder.as_dataset(split=\"test\", as_supervised=True)"
      ],
      "metadata": {
        "id": "1YPI6jnCqKu5"
      },
      "execution_count": 3,
      "outputs": []
    },
    {
      "cell_type": "code",
      "source": [
        "#3 Define a tiny IterableDataset wrapper\n",
        "class ImageNetV2TopImages(IterableDataset):\n",
        "    def __init__(self, tfds_dataset, transform=None):\n",
        "        self.ds = tfds_dataset\n",
        "        self.transform = transform\n",
        "\n",
        "    def __iter__(self):\n",
        "        for img, label in tfds.as_numpy(self.ds):\n",
        "            # img: HWC uint8 array, label: int\n",
        "            pil = Image.fromarray(img)\n",
        "            if self.transform:\n",
        "                pil = self.transform(pil)\n",
        "            yield pil, label"
      ],
      "metadata": {
        "id": "2vJVZ3nPrH5f"
      },
      "execution_count": 4,
      "outputs": []
    },
    {
      "cell_type": "code",
      "source": [
        "#4 Torch transforms (same as ResNet expects)\n",
        "preprocess = transforms.Compose([\n",
        "    transforms.Resize(256),\n",
        "    transforms.CenterCrop(224),\n",
        "    transforms.ToTensor(),\n",
        "    transforms.Normalize([0.485,0.456,0.406],\n",
        "                         [0.229,0.224,0.225]),\n",
        "])"
      ],
      "metadata": {
        "id": "2zSfaVnnraYL"
      },
      "execution_count": 5,
      "outputs": []
    },
    {
      "cell_type": "code",
      "source": [
        "#5 Instantiate DataLoader\n",
        "dataset = ImageNetV2TopImages(tfds_ds, transform=preprocess)\n",
        "loader  = DataLoader(dataset, batch_size=1, num_workers=4)"
      ],
      "metadata": {
        "colab": {
          "base_uri": "https://localhost:8080/"
        },
        "id": "UntGOOH3rdNt",
        "outputId": "edfa205c-46c1-46fb-b70b-8ee32706e4df"
      },
      "execution_count": 6,
      "outputs": [
        {
          "output_type": "stream",
          "name": "stderr",
          "text": [
            "/usr/local/lib/python3.11/dist-packages/torch/utils/data/dataloader.py:624: UserWarning: This DataLoader will create 4 worker processes in total. Our suggested max number of worker in current system is 2, which is smaller than what this DataLoader is going to create. Please be aware that excessive worker creation might get DataLoader running slow or even freeze, lower the worker number to avoid potential slowness/freeze if necessary.\n",
            "  warnings.warn(\n"
          ]
        }
      ]
    },
    {
      "cell_type": "code",
      "source": [
        "#Define models and cascade logic\n",
        "import time\n",
        "import torch.nn.functional as F\n",
        "from torchvision import models\n",
        "\n",
        "device = torch.device(\"cuda\" if torch.cuda.is_available() else \"cpu\")\n",
        "\n",
        "# Load pretrained ResNets\n",
        "resnet18  = models.resnet18(pretrained=True).to(device).eval()    #model A\n",
        "resnet34  = models.resnet34(pretrained=True).to(device).eval()    #model B\n",
        "resnet152 = models.resnet152(pretrained=True).to(device).eval()   #model C\n",
        "\n",
        "# Thresholds\n",
        "SKIP_THRESH = 0.3   # if ResNet18 conf < 0.3, skip ResNet34\n",
        "THR_A = 0.95 # IDK threshold for model A\n",
        "THR_B = 0.95 # IDK thresholds for model B\n",
        "\n",
        "def predict(model, x):\n",
        "    logits = model(x)\n",
        "    probs  = F.softmax(logits, dim=1)\n",
        "    conf, cls = torch.max(probs, dim=1)\n",
        "    return cls.item(), conf.item()\n",
        "\n",
        "def get_prediction(model, x, thr=None):\n",
        "    cls, conf = predict(model, x)\n",
        "    if thr is not None and conf < thr:\n",
        "        return \"IDK\", conf\n",
        "    return cls, conf\n",
        "\n",
        "def dynamic_idk_cascade(x):\n",
        "    # A: ResNet18\n",
        "    cls_a, conf_a = get_prediction(resnet18, x, THR_A)\n",
        "    if cls_a != \"IDK\":\n",
        "        return cls_a, conf_a, \"ResNet18\"\n",
        "    # B: ResNet34\n",
        "    cls_b, conf_b = get_prediction(resnet34, x, THR_B)\n",
        "    if cls_b != \"IDK\":\n",
        "        return cls_b, conf_b, \"ResNet34\"\n",
        "    # C: ResNet152\n",
        "    cls_c, conf_c = predict(resnet152, x)\n",
        "    return cls_c, conf_c, \"ResNet152\""
      ],
      "metadata": {
        "id": "5EcBCL8JsT9G",
        "collapsed": true,
        "colab": {
          "base_uri": "https://localhost:8080/"
        },
        "outputId": "5bd418aa-694b-4b07-bc4d-43c25d93a766"
      },
      "execution_count": 7,
      "outputs": [
        {
          "output_type": "stream",
          "name": "stderr",
          "text": [
            "/usr/local/lib/python3.11/dist-packages/torchvision/models/_utils.py:208: UserWarning: The parameter 'pretrained' is deprecated since 0.13 and may be removed in the future, please use 'weights' instead.\n",
            "  warnings.warn(\n",
            "/usr/local/lib/python3.11/dist-packages/torchvision/models/_utils.py:223: UserWarning: Arguments other than a weight enum or `None` for 'weights' are deprecated since 0.13 and may be removed in the future. The current behavior is equivalent to passing `weights=ResNet18_Weights.IMAGENET1K_V1`. You can also use `weights=ResNet18_Weights.DEFAULT` to get the most up-to-date weights.\n",
            "  warnings.warn(msg)\n",
            "Downloading: \"https://download.pytorch.org/models/resnet18-f37072fd.pth\" to /root/.cache/torch/hub/checkpoints/resnet18-f37072fd.pth\n",
            "100%|██████████| 44.7M/44.7M [00:00<00:00, 79.4MB/s]\n",
            "/usr/local/lib/python3.11/dist-packages/torchvision/models/_utils.py:223: UserWarning: Arguments other than a weight enum or `None` for 'weights' are deprecated since 0.13 and may be removed in the future. The current behavior is equivalent to passing `weights=ResNet34_Weights.IMAGENET1K_V1`. You can also use `weights=ResNet34_Weights.DEFAULT` to get the most up-to-date weights.\n",
            "  warnings.warn(msg)\n",
            "Downloading: \"https://download.pytorch.org/models/resnet34-b627a593.pth\" to /root/.cache/torch/hub/checkpoints/resnet34-b627a593.pth\n",
            "100%|██████████| 83.3M/83.3M [00:00<00:00, 164MB/s]\n",
            "/usr/local/lib/python3.11/dist-packages/torchvision/models/_utils.py:223: UserWarning: Arguments other than a weight enum or `None` for 'weights' are deprecated since 0.13 and may be removed in the future. The current behavior is equivalent to passing `weights=ResNet152_Weights.IMAGENET1K_V1`. You can also use `weights=ResNet152_Weights.DEFAULT` to get the most up-to-date weights.\n",
            "  warnings.warn(msg)\n",
            "Downloading: \"https://download.pytorch.org/models/resnet152-394f9c45.pth\" to /root/.cache/torch/hub/checkpoints/resnet152-394f9c45.pth\n",
            "100%|██████████| 230M/230M [00:01<00:00, 173MB/s]\n"
          ]
        }
      ]
    },
    {
      "cell_type": "code",
      "source": [
        "from collections import Counter\n",
        "import time\n",
        "\n",
        "# Prepare counters\n",
        "branch_sum = Counter()\n",
        "branch_cnt = Counter()\n",
        "\n",
        "# RUN & EVALUATE\n",
        "MAX_IMAGES = 10000\n",
        "total      = 0\n",
        "correct    = 0\n",
        "sum_time   = 0.0\n",
        "\n",
        "for imgs, labels in loader:\n",
        "    total += 1\n",
        "    imgs, labels = imgs.to(device), labels.to(device)\n",
        "\n",
        "    start = time.time()\n",
        "    pred, conf, branch = dynamic_idk_cascade(imgs)\n",
        "    elapsed = time.time() - start\n",
        "\n",
        "    # Update overall stats\n",
        "    correct += (pred == labels.item())\n",
        "    sum_time += elapsed\n",
        "\n",
        "    # Update branch‑specific stats\n",
        "    branch_sum[branch] += elapsed\n",
        "    branch_cnt[branch] += 1\n",
        "\n",
        "    # Light logging\n",
        "    if total % 500 == 0:\n",
        "        print(f\"[{total:5d}] Pred={pred:4d}  Used={branch:<20s}  Time={elapsed*1000:.1f}ms\")\n",
        "\n",
        "    if total >= MAX_IMAGES:\n",
        "        break\n",
        "\n",
        "# Core metrics\n",
        "accuracy  = correct / total\n",
        "avg_time  = sum_time / total          # seconds per image\n",
        "\n",
        "# Skip rate (A→C)\n",
        "skip_rate = branch_cnt.get(\"ResNet152 (skipped B)\", 0) / total\n",
        "\n",
        "# Print summary\n",
        "print(\"\\n=== SUMMARY ===\")\n",
        "print(f\"Total images         : {total}\")\n",
        "print(f\"Accuracy             : {accuracy*100:.2f}%\")\n",
        "print(f\"Avg. time per input  : {avg_time*1000:.1f} ms\")\n",
        "print(f\"Skip rate (A→C)      : {skip_rate*100:.2f}%\\n\")\n",
        "\n",
        "# Breakdown by branch\n",
        "for branch, cnt in branch_cnt.items():\n",
        "    t = branch_sum[branch]\n",
        "    print(f\"  {branch:>20s} | Count: {cnt:5d} | Avg time: {t/cnt*1000:.1f} ms\")"
      ],
      "metadata": {
        "colab": {
          "base_uri": "https://localhost:8080/"
        },
        "collapsed": true,
        "id": "fZ_WQ3qshmk1",
        "outputId": "4627526b-8e4e-4d08-b3e9-8ebe9aa7d14f"
      },
      "execution_count": 8,
      "outputs": [
        {
          "output_type": "stream",
          "name": "stdout",
          "text": [
            "[  500] Pred= 230  Used=ResNet152             Time=36.0ms\n",
            "[ 1000] Pred= 225  Used=ResNet34              Time=13.0ms\n",
            "[ 1500] Pred=  35  Used=ResNet152             Time=62.0ms\n",
            "[ 2000] Pred= 244  Used=ResNet18              Time=6.3ms\n",
            "[ 2500] Pred= 763  Used=ResNet152             Time=34.5ms\n",
            "[ 3000] Pred= 420  Used=ResNet18              Time=5.4ms\n",
            "[ 3500] Pred= 404  Used=ResNet152             Time=35.3ms\n",
            "[ 4000] Pred= 700  Used=ResNet152             Time=42.7ms\n",
            "[ 4500] Pred=  17  Used=ResNet18              Time=4.7ms\n",
            "[ 5000] Pred= 200  Used=ResNet152             Time=34.5ms\n",
            "[ 5500] Pred= 429  Used=ResNet152             Time=38.2ms\n",
            "[ 6000] Pred= 457  Used=ResNet18              Time=9.0ms\n",
            "[ 6500] Pred= 939  Used=ResNet152             Time=37.4ms\n",
            "[ 7000] Pred= 710  Used=ResNet152             Time=37.4ms\n",
            "[ 7500] Pred= 977  Used=ResNet152             Time=55.4ms\n",
            "[ 8000] Pred= 914  Used=ResNet152             Time=34.9ms\n",
            "[ 8500] Pred= 760  Used=ResNet152             Time=36.1ms\n",
            "[ 9000] Pred= 685  Used=ResNet18              Time=4.4ms\n",
            "[ 9500] Pred= 930  Used=ResNet152             Time=34.3ms\n",
            "[10000] Pred= 900  Used=ResNet152             Time=36.6ms\n",
            "\n",
            "=== SUMMARY ===\n",
            "Total images         : 10000\n",
            "Accuracy             : 80.00%\n",
            "Avg. time per input  : 24.6 ms\n",
            "Skip rate (A→C)      : 0.00%\n",
            "\n",
            "             ResNet152 | Count:  5424 | Avg time: 39.0 ms\n",
            "              ResNet18 | Count:  3464 | Avg time: 5.6 ms\n",
            "              ResNet34 | Count:  1112 | Avg time: 13.5 ms\n"
          ]
        }
      ]
    }
  ]
}
