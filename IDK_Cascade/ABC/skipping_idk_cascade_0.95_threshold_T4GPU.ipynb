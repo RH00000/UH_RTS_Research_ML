{
  "nbformat": 4,
  "nbformat_minor": 0,
  "metadata": {
    "colab": {
      "provenance": [],
      "gpuType": "T4",
      "authorship_tag": "ABX9TyOT81Ytz2gwhKM00c9hj1BD",
      "include_colab_link": true
    },
    "kernelspec": {
      "name": "python3",
      "display_name": "Python 3"
    },
    "language_info": {
      "name": "python"
    },
    "accelerator": "GPU"
  },
  "cells": [
    {
      "cell_type": "markdown",
      "metadata": {
        "id": "view-in-github",
        "colab_type": "text"
      },
      "source": [
        "<a href=\"https://colab.research.google.com/github/RH00000/UH_RTS_Research_ML/blob/main/skipping_idk_cascade_0.95_threshold_T4GPU.ipynb\" target=\"_parent\"><img src=\"https://colab.research.google.com/assets/colab-badge.svg\" alt=\"Open In Colab\"/></a>"
      ]
    },
    {
      "cell_type": "code",
      "source": [
        "!pip install torch torchvision tensorflow-datasets"
      ],
      "metadata": {
        "id": "ivrc2earSZrh",
        "collapsed": true
      },
      "execution_count": null,
      "outputs": []
    },
    {
      "cell_type": "code",
      "source": [
        "#Load the ImageNetV2 TopImages split\n",
        "import tensorflow_datasets as tfds\n",
        "import torch\n",
        "from torch.utils.data import IterableDataset, DataLoader\n",
        "from torchvision import transforms\n",
        "from PIL import Image\n",
        "\n",
        "# 1) Download & prepare the TFDS builder for ImageNetV2 TopImages\n",
        "builder = tfds.builder(\"imagenet_v2\", config=\"topimages\")\n",
        "builder.download_and_prepare()"
      ],
      "metadata": {
        "colab": {
          "base_uri": "https://localhost:8080/",
          "height": 148,
          "referenced_widgets": [
            "c3e4cb79f8994af781a59104ef076b76",
            "0032d8b37fc944c49e897831fe8fd472",
            "14d4b16315c849d69eaac517443efb58",
            "0b936c3ff61e4f088f37ae802c982255",
            "94fb14e179b840b28d01f818987627f3",
            "ce0d16b3d8244564bf56e3cd33266f64",
            "e46413bdf84d49ceb1d772f997795550",
            "65a8b6a9768e48e897a5934a615e3963",
            "484524650d52495f9a78450f39caa45e",
            "a177c06bb6db4e2097704d31c4921fe4",
            "d720cad9ee5547818ea4083fe032e965",
            "290b84e850794422828ed3429413e947",
            "04bd7e5d3f3c43c78300a33bb0c7fbb7",
            "e5a07cefaaed47a0a4e47f6d69300ec8",
            "8aadde604a3d46f7ac9876fd8e839ec7",
            "33d8f9cbdf2b4f76937712add7878720",
            "68bf2da249d342c99549963622a9fb73",
            "4a678ecfe11d4b0cb17a5ea57a3add9d",
            "162521bdb4534e42bb6bbcb579f2a56b",
            "c884456a4e0a44bda2db1f5147bf3981",
            "af463b60efe24bc7ac9a855bece24b2a",
            "21c75b96efda4e38a9c0bcde7c543a0b",
            "9b83f1d38cbd4c9c90caa371a1a85083",
            "80d49149768e41589a964f9c359a0b70",
            "dc1d42ab1ffe4aea8c35cebf08ecea90",
            "2e8756b8088e46d5915f0fda7cd775c7",
            "3add604101374a3d80b80038c66fc9af",
            "35e80a786d1449f69f84919364cdebbf",
            "7ed53517698049569007997722220e3a",
            "f82c2bf98baf49d1a01406f9aaa2adcd",
            "75a89734e2094103bb3ee2bf4c7aed0c",
            "6a6fe79852e2405ba0ed569ede9e46f2",
            "09f54e9dd8544a96ba30d3f5e3621629",
            "182303d4bcf34d4a91b0422fde63c55f",
            "322ca0f72bba49fa924aae0a91a381cf",
            "516aa977a0ec4f308f5ec92a70161be8",
            "faafd60b0c5f4598b7b25c0ef7723720",
            "6b517d4b08284320a7e9bcfa99813ef1",
            "53c1fc172957469780c3e9a18539ab19",
            "f456b07277004b8ba6a465f2b5c29120",
            "cea6a916e04940ea8effb209b144f0a8",
            "fdc2a4259e324a0ea09281378513e4eb",
            "50ed9069a25747958826b64176a20b3f",
            "2df2e857fed04bceb6503d4bbee27f24",
            "607932986c074cc1b70c57242c28efa2",
            "9e336b260729458a96334495f9d02be4",
            "5b6322817cd54ddfa8f2b28a7beada26",
            "c27b996ee16d47879f2f772a23266f47",
            "bac693f638054f40a1a99d2ee25ed303",
            "128616ad4f0347c98a54e13779989eec",
            "3f3c6c77077a42d2862ad4b082ae01f7",
            "4937f4ee869343c3b3ba909ede953e11",
            "8e6a6746edb34cf58733e29c3bcd1f8a",
            "90b60456dbb94cc19b14dea0006514ea",
            "85c66e149c8948daaf4544a98c39a42b",
            "985bc2ff9664472a9ce23960d51e4956",
            "689e84be74c84b4ea1223c053e6c530a",
            "79371d4eccfc4128af194bc41b9cad02",
            "9b1b4a4bfbc54290b6afbd083e676174",
            "ef1f6aa645a44c378f0daf1ce351742b",
            "005fcdda400b42c5865c287d085bfa0d",
            "a3388a6e629e41cabd44f2434267edbd",
            "5348a62e47a54f7d8a0bd9f43aa0d0fa",
            "4e31240a37584890a378e0ec4caee483",
            "f9bd43db54014dda99ab54873d58cc49",
            "14309389ee0444bfb298d2b61c40a8de"
          ]
        },
        "id": "GZ_6l-JgVxYU",
        "outputId": "7b92ffa9-d417-40b1-813e-fa81f347135d"
      },
      "execution_count": 2,
      "outputs": [
        {
          "output_type": "stream",
          "name": "stdout",
          "text": [
            "Downloading and preparing dataset Unknown size (download: Unknown size, generated: Unknown size, total: Unknown size) to /root/tensorflow_datasets/imagenet_v2/topimages/3.0.0...\n"
          ]
        },
        {
          "output_type": "display_data",
          "data": {
            "text/plain": [
              "Dl Completed...: 0 url [00:00, ? url/s]"
            ],
            "application/vnd.jupyter.widget-view+json": {
              "version_major": 2,
              "version_minor": 0,
              "model_id": "c3e4cb79f8994af781a59104ef076b76"
            }
          },
          "metadata": {}
        },
        {
          "output_type": "display_data",
          "data": {
            "text/plain": [
              "Dl Size...: 0 MiB [00:00, ? MiB/s]"
            ],
            "application/vnd.jupyter.widget-view+json": {
              "version_major": 2,
              "version_minor": 0,
              "model_id": "290b84e850794422828ed3429413e947"
            }
          },
          "metadata": {}
        },
        {
          "output_type": "display_data",
          "data": {
            "text/plain": [
              "Extraction completed...: 0 file [00:00, ? file/s]"
            ],
            "application/vnd.jupyter.widget-view+json": {
              "version_major": 2,
              "version_minor": 0,
              "model_id": "9b83f1d38cbd4c9c90caa371a1a85083"
            }
          },
          "metadata": {}
        },
        {
          "output_type": "display_data",
          "data": {
            "text/plain": [
              "Generating splits...:   0%|          | 0/1 [00:00<?, ? splits/s]"
            ],
            "application/vnd.jupyter.widget-view+json": {
              "version_major": 2,
              "version_minor": 0,
              "model_id": "182303d4bcf34d4a91b0422fde63c55f"
            }
          },
          "metadata": {}
        },
        {
          "output_type": "display_data",
          "data": {
            "text/plain": [
              "Generating test examples...: 0 examples [00:00, ? examples/s]"
            ],
            "application/vnd.jupyter.widget-view+json": {
              "version_major": 2,
              "version_minor": 0,
              "model_id": "607932986c074cc1b70c57242c28efa2"
            }
          },
          "metadata": {}
        },
        {
          "output_type": "display_data",
          "data": {
            "text/plain": [
              "Shuffling /root/tensorflow_datasets/imagenet_v2/topimages/incomplete.1S14H6_3.0.0/imagenet_v2-test.tfrecord*..…"
            ],
            "application/vnd.jupyter.widget-view+json": {
              "version_major": 2,
              "version_minor": 0,
              "model_id": "985bc2ff9664472a9ce23960d51e4956"
            }
          },
          "metadata": {}
        },
        {
          "output_type": "stream",
          "name": "stdout",
          "text": [
            "Dataset imagenet_v2 downloaded and prepared to /root/tensorflow_datasets/imagenet_v2/topimages/3.0.0. Subsequent calls will reuse this data.\n"
          ]
        }
      ]
    },
    {
      "cell_type": "code",
      "source": [
        "#2 Load the 'test' split (10000 images, top‑images variant)\n",
        "tfds_ds = builder.as_dataset(split=\"test\", as_supervised=True)"
      ],
      "metadata": {
        "id": "1YPI6jnCqKu5"
      },
      "execution_count": 3,
      "outputs": []
    },
    {
      "cell_type": "code",
      "source": [
        "#3 Define a tiny IterableDataset wrapper\n",
        "class ImageNetV2TopImages(IterableDataset):\n",
        "    def __init__(self, tfds_dataset, transform=None):\n",
        "        self.ds = tfds_dataset\n",
        "        self.transform = transform\n",
        "\n",
        "    def __iter__(self):\n",
        "        for img, label in tfds.as_numpy(self.ds):\n",
        "            # img: HWC uint8 array, label: int\n",
        "            pil = Image.fromarray(img)\n",
        "            if self.transform:\n",
        "                pil = self.transform(pil)\n",
        "            yield pil, label"
      ],
      "metadata": {
        "id": "2vJVZ3nPrH5f"
      },
      "execution_count": 4,
      "outputs": []
    },
    {
      "cell_type": "code",
      "source": [
        "#4 Torch transforms (same as ResNet expects)\n",
        "preprocess = transforms.Compose([\n",
        "    transforms.Resize(256),\n",
        "    transforms.CenterCrop(224),\n",
        "    transforms.ToTensor(),\n",
        "    transforms.Normalize([0.485,0.456,0.406],\n",
        "                         [0.229,0.224,0.225]),\n",
        "])"
      ],
      "metadata": {
        "id": "2zSfaVnnraYL"
      },
      "execution_count": 5,
      "outputs": []
    },
    {
      "cell_type": "code",
      "source": [
        "#5 Instantiate DataLoader\n",
        "dataset = ImageNetV2TopImages(tfds_ds, transform=preprocess)\n",
        "loader  = DataLoader(dataset, batch_size=1, num_workers=4)"
      ],
      "metadata": {
        "colab": {
          "base_uri": "https://localhost:8080/"
        },
        "id": "UntGOOH3rdNt",
        "outputId": "9808e776-1ce0-4759-bdef-3de2f31788f9"
      },
      "execution_count": 6,
      "outputs": [
        {
          "output_type": "stream",
          "name": "stderr",
          "text": [
            "/usr/local/lib/python3.11/dist-packages/torch/utils/data/dataloader.py:624: UserWarning: This DataLoader will create 4 worker processes in total. Our suggested max number of worker in current system is 2, which is smaller than what this DataLoader is going to create. Please be aware that excessive worker creation might get DataLoader running slow or even freeze, lower the worker number to avoid potential slowness/freeze if necessary.\n",
            "  warnings.warn(\n"
          ]
        }
      ]
    },
    {
      "cell_type": "code",
      "source": [
        "#Define models and cascade logic\n",
        "import time\n",
        "import torch.nn.functional as F\n",
        "from torchvision import models\n",
        "\n",
        "device = torch.device(\"cuda\" if torch.cuda.is_available() else \"cpu\")\n",
        "\n",
        "# Load pretrained ResNets\n",
        "resnet18  = models.resnet18(pretrained=True).to(device).eval()    #model A\n",
        "resnet34  = models.resnet34(pretrained=True).to(device).eval()    #model B\n",
        "resnet152 = models.resnet152(pretrained=True).to(device).eval()   #model C\n",
        "\n",
        "# Thresholds\n",
        "SKIP_THRESH = 0.3   # if ResNet18 conf < 0.3, skip ResNet34\n",
        "THR_A = 0.95 # IDK threshold for model A\n",
        "THR_B = 0.95 # IDK thresholds for model B\n",
        "\n",
        "def predict(model, x):\n",
        "    logits = model(x)\n",
        "    probs  = F.softmax(logits, dim=1)\n",
        "    conf, cls = torch.max(probs, dim=1)\n",
        "    return cls.item(), conf.item()\n",
        "\n",
        "def get_prediction(model, x, thr=None):\n",
        "    cls, conf = predict(model, x)\n",
        "    if thr is not None and conf < thr:\n",
        "        return \"IDK\", conf\n",
        "    return cls, conf\n",
        "\n",
        "def dynamic_idk_cascade(x):\n",
        "    # A: ResNet18\n",
        "    cls_a, conf_a = get_prediction(resnet18, x, THR_A)\n",
        "    if cls_a != \"IDK\":\n",
        "        return cls_a, conf_a, \"ResNet18\"\n",
        "    # Skip logic\n",
        "    if conf_a < SKIP_THRESH:\n",
        "        cls_c, conf_c = predict(resnet152, x)\n",
        "        return cls_c, conf_c, \"ResNet152 (skipped B)\"\n",
        "    # B: ResNet34\n",
        "    cls_b, conf_b = get_prediction(resnet34, x, THR_B)\n",
        "    if cls_b != \"IDK\":\n",
        "        return cls_b, conf_b, \"ResNet34\"\n",
        "    # C: ResNet152\n",
        "    cls_c, conf_c = predict(resnet152, x)\n",
        "    return cls_c, conf_c, \"ResNet152\""
      ],
      "metadata": {
        "id": "5EcBCL8JsT9G",
        "collapsed": true,
        "colab": {
          "base_uri": "https://localhost:8080/"
        },
        "outputId": "90ace583-19b7-48a8-a9fc-1fe58dbbe62c"
      },
      "execution_count": 7,
      "outputs": [
        {
          "output_type": "stream",
          "name": "stderr",
          "text": [
            "/usr/local/lib/python3.11/dist-packages/torchvision/models/_utils.py:208: UserWarning: The parameter 'pretrained' is deprecated since 0.13 and may be removed in the future, please use 'weights' instead.\n",
            "  warnings.warn(\n",
            "/usr/local/lib/python3.11/dist-packages/torchvision/models/_utils.py:223: UserWarning: Arguments other than a weight enum or `None` for 'weights' are deprecated since 0.13 and may be removed in the future. The current behavior is equivalent to passing `weights=ResNet18_Weights.IMAGENET1K_V1`. You can also use `weights=ResNet18_Weights.DEFAULT` to get the most up-to-date weights.\n",
            "  warnings.warn(msg)\n",
            "Downloading: \"https://download.pytorch.org/models/resnet18-f37072fd.pth\" to /root/.cache/torch/hub/checkpoints/resnet18-f37072fd.pth\n",
            "100%|██████████| 44.7M/44.7M [00:00<00:00, 209MB/s]\n",
            "/usr/local/lib/python3.11/dist-packages/torchvision/models/_utils.py:223: UserWarning: Arguments other than a weight enum or `None` for 'weights' are deprecated since 0.13 and may be removed in the future. The current behavior is equivalent to passing `weights=ResNet34_Weights.IMAGENET1K_V1`. You can also use `weights=ResNet34_Weights.DEFAULT` to get the most up-to-date weights.\n",
            "  warnings.warn(msg)\n",
            "Downloading: \"https://download.pytorch.org/models/resnet34-b627a593.pth\" to /root/.cache/torch/hub/checkpoints/resnet34-b627a593.pth\n",
            "100%|██████████| 83.3M/83.3M [00:00<00:00, 170MB/s]\n",
            "/usr/local/lib/python3.11/dist-packages/torchvision/models/_utils.py:223: UserWarning: Arguments other than a weight enum or `None` for 'weights' are deprecated since 0.13 and may be removed in the future. The current behavior is equivalent to passing `weights=ResNet152_Weights.IMAGENET1K_V1`. You can also use `weights=ResNet152_Weights.DEFAULT` to get the most up-to-date weights.\n",
            "  warnings.warn(msg)\n",
            "Downloading: \"https://download.pytorch.org/models/resnet152-394f9c45.pth\" to /root/.cache/torch/hub/checkpoints/resnet152-394f9c45.pth\n",
            "100%|██████████| 230M/230M [00:02<00:00, 101MB/s]\n"
          ]
        }
      ]
    },
    {
      "cell_type": "code",
      "source": [
        "from collections import Counter\n",
        "import time\n",
        "\n",
        "# Prepare counters\n",
        "branch_sum = Counter()\n",
        "branch_cnt = Counter()\n",
        "\n",
        "# RUN & EVALUATE\n",
        "MAX_IMAGES = 10000\n",
        "total      = 0\n",
        "correct    = 0\n",
        "sum_time   = 0.0\n",
        "\n",
        "for imgs, labels in loader:\n",
        "    total += 1\n",
        "    imgs, labels = imgs.to(device), labels.to(device)\n",
        "\n",
        "    start = time.time()\n",
        "    pred, conf, branch = dynamic_idk_cascade(imgs)\n",
        "    elapsed = time.time() - start\n",
        "\n",
        "    # Update overall stats\n",
        "    correct += (pred == labels.item())\n",
        "    sum_time += elapsed\n",
        "\n",
        "    # Update branch‑specific stats\n",
        "    branch_sum[branch] += elapsed\n",
        "    branch_cnt[branch] += 1\n",
        "\n",
        "    # Light logging\n",
        "    if total % 500 == 0:\n",
        "        print(f\"[{total:5d}] Pred={pred:4d}  Used={branch:<20s}  Time={elapsed*1000:.1f}ms\")\n",
        "\n",
        "    if total >= MAX_IMAGES:\n",
        "        break\n",
        "\n",
        "# Core metrics\n",
        "accuracy  = correct / total\n",
        "avg_time  = sum_time / total          # seconds per image\n",
        "\n",
        "# Skip rate (A→C)\n",
        "skip_rate = branch_cnt.get(\"ResNet152 (skipped B)\", 0) / total\n",
        "\n",
        "# Print summary\n",
        "print(\"\\n=== SUMMARY ===\")\n",
        "print(f\"Total images         : {total}\")\n",
        "print(f\"Accuracy             : {accuracy*100:.2f}%\")\n",
        "print(f\"Avg. time per input  : {avg_time*1000:.1f} ms\")\n",
        "print(f\"Skip rate (A→C)      : {skip_rate*100:.2f}%\\n\")\n",
        "\n",
        "# Breakdown by branch\n",
        "for branch, cnt in branch_cnt.items():\n",
        "    t = branch_sum[branch]\n",
        "    print(f\"  {branch:>20s} | Count: {cnt:5d} | Avg time: {t/cnt*1000:.1f} ms\")"
      ],
      "metadata": {
        "colab": {
          "base_uri": "https://localhost:8080/"
        },
        "collapsed": true,
        "id": "fZ_WQ3qshmk1",
        "outputId": "447e6069-3973-4595-f75f-bd36a134e84c"
      },
      "execution_count": 8,
      "outputs": [
        {
          "output_type": "stream",
          "name": "stdout",
          "text": [
            "[  500] Pred= 230  Used=ResNet152             Time=34.5ms\n",
            "[ 1000] Pred= 225  Used=ResNet34              Time=12.4ms\n",
            "[ 1500] Pred=  35  Used=ResNet152             Time=35.5ms\n",
            "[ 2000] Pred= 244  Used=ResNet18              Time=4.5ms\n",
            "[ 2500] Pred= 763  Used=ResNet152             Time=41.6ms\n",
            "[ 3000] Pred= 420  Used=ResNet18              Time=4.4ms\n",
            "[ 3500] Pred= 404  Used=ResNet152             Time=34.0ms\n",
            "[ 4000] Pred= 700  Used=ResNet152             Time=36.9ms\n",
            "[ 4500] Pred=  17  Used=ResNet18              Time=4.5ms\n",
            "[ 5000] Pred= 200  Used=ResNet152             Time=39.5ms\n",
            "[ 5500] Pred= 429  Used=ResNet152             Time=36.2ms\n",
            "[ 6000] Pred= 457  Used=ResNet18              Time=9.4ms\n",
            "[ 6500] Pred= 939  Used=ResNet152 (skipped B)  Time=30.7ms\n",
            "[ 7000] Pred= 710  Used=ResNet152             Time=34.0ms\n",
            "[ 7500] Pred= 977  Used=ResNet152             Time=35.4ms\n",
            "[ 8000] Pred= 914  Used=ResNet152             Time=42.7ms\n",
            "[ 8500] Pred= 760  Used=ResNet152             Time=36.3ms\n",
            "[ 9000] Pred= 685  Used=ResNet18              Time=5.3ms\n",
            "[ 9500] Pred= 930  Used=ResNet152 (skipped B)  Time=30.0ms\n",
            "[10000] Pred= 900  Used=ResNet152 (skipped B)  Time=29.7ms\n",
            "\n",
            "=== SUMMARY ===\n",
            "Total images         : 10000\n",
            "Accuracy             : 80.00%\n",
            "Avg. time per input  : 23.6 ms\n",
            "Skip rate (A→C)      : 10.20%\n",
            "\n",
            "  ResNet152 (skipped B) | Count:  1020 | Avg time: 32.9 ms\n",
            "             ResNet152 | Count:  4420 | Avg time: 38.1 ms\n",
            "              ResNet18 | Count:  3464 | Avg time: 5.5 ms\n",
            "              ResNet34 | Count:  1096 | Avg time: 13.8 ms\n"
          ]
        }
      ]
    }
  ]
}
