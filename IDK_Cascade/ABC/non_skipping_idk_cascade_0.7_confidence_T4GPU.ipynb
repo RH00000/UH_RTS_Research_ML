{
  "nbformat": 4,
  "nbformat_minor": 0,
  "metadata": {
    "colab": {
      "provenance": [],
      "gpuType": "T4",
      "authorship_tag": "ABX9TyNsHYCmAj/+ggB/+nZc3AKk",
      "include_colab_link": true
    },
    "kernelspec": {
      "name": "python3",
      "display_name": "Python 3"
    },
    "language_info": {
      "name": "python"
    },
    "accelerator": "GPU"
  },
  "cells": [
    {
      "cell_type": "markdown",
      "metadata": {
        "id": "view-in-github",
        "colab_type": "text"
      },
      "source": [
        "<a href=\"https://colab.research.google.com/github/RH00000/UH_RTS_Research_ML/blob/main/non_skipping_idk_cascade_0.7_confidence_t4GPU.ipynb\" target=\"_parent\"><img src=\"https://colab.research.google.com/assets/colab-badge.svg\" alt=\"Open In Colab\"/></a>"
      ]
    },
    {
      "cell_type": "code",
      "source": [
        "!pip install torch torchvision tensorflow-datasets"
      ],
      "metadata": {
        "id": "ivrc2earSZrh",
        "collapsed": true
      },
      "execution_count": null,
      "outputs": []
    },
    {
      "cell_type": "code",
      "source": [
        "#Load the ImaageNetV2 TopImages split\n",
        "import tensorflow_datasets as tfds\n",
        "import torch\n",
        "from torch.utils.data import IterableDataset, DataLoader\n",
        "from torchvision import transforms\n",
        "from PIL import Image\n",
        "\n",
        "# 1) Download & prepare the TFDS builder for ImageNetV2 TopImages\n",
        "builder = tfds.builder(\"imagenet_v2\", config=\"topimages\")\n",
        "builder.download_and_prepare()"
      ],
      "metadata": {
        "colab": {
          "base_uri": "https://localhost:8080/",
          "height": 148,
          "referenced_widgets": [
            "4eebdfc739ac4526bf470fcd89e1343e",
            "03d9798a15764a208280c8c3ded4dc76",
            "8476a63b849d4bbd8a688c91155e353a",
            "04739e6d111a47d0bea67958c01b8ca5",
            "04c8536b32e14d9e90f12dc33dad82e1",
            "ba16860e85974707be71d1e8a7b117c2",
            "86cb61a1db4241ed98697615b5766598",
            "cb1a723297404b86bba7ba28d1ce771d",
            "dc6bc601a52e45ecb09c8efc595b776d",
            "04597c195c57420eb72034fbd8f0e070",
            "49f9213d13fa41cdae728b32d1e13704",
            "51dc6652132843aeabf202fc6ea36951",
            "0511ac314514422e97a1c361ec46af26",
            "2d53e2121fdf417e8f8492597dd86d55",
            "655b497f9459443c91eb6821f92ca095",
            "ac0df70bb93f4ef29f47e8ad2747d9e8",
            "83c8e7b74d604faaa2c52f009512e3eb",
            "b1e98339ca7447a9b95ba5a8d4594e9f",
            "cc39b4ab740f4981b0737f305d37f473",
            "179013bcd00640ed82a4facad9e76620",
            "6b06c0b7f65d4ccb94b3fad7622c222c",
            "6fedbbecf9654a109ad49cb6e3d1021b",
            "24e7cb46affa4da9bd1f2e086c216df2",
            "91c4a293266247bbbf23f8d7373022a2",
            "b19c9daa63074f8eacd26fd2e54ad088",
            "a4e019a7a739424894ff90dd487bff3a",
            "36231a3bd53a4ed6aba075add9a4b7ae",
            "97911aeef70a4f07b286a5f853a74d83",
            "817431966b91458c9db2af77cc55b7de",
            "dc67192769c245ecb0c5272baaaaee60",
            "1e47ba3717b2433db741bfbfb31ee394",
            "d8f8ffbac2b040ee9c558a09b471c6e5",
            "333ae939fa8d44efb823d495047ef5ff",
            "1456641fbc864c3bbae542be36f63d88",
            "2509ccc2707b4b6b90aae344402592ea",
            "14c4cff36d0e481689b6b7fdcd93e03d",
            "9565e30a47c8411c9623f73a2695bd42",
            "8230e0735f5d432193d2adbb4ae62bbc",
            "72ffb1ec30dc4f4e8750d29ce4807f08",
            "fd33c7c4eef547c29b70f7fd99c52f24",
            "8468d2b39d7b45f7bbabe5499ba95709",
            "15e4c961919545418a8c44658ba2b628",
            "f0ea74d7e5804ca6a1cbd50f2f3d5f37",
            "f409cfc48ccb4595a880ef710ae86578",
            "9749e4697ae54032a0756f8da71e1ceb",
            "b46437b638044a4e92b63e87ba7d0030",
            "859cbcde90ae4ca4ad4693ba089fb5b6",
            "9633768323e349389d59e239f0e60970",
            "e07337ca0a9a4a908cca3df7330b5db1",
            "bf44649934da45afa5b65a0e2ef14e5d",
            "41e97178dca441f7b6ed2642e88da535",
            "72ae5d8fe52f489bada1442aa40acb6a",
            "7dcdb5e9239747579d8884a2394603ec",
            "ccebabd9baec46928d8ecb11267126c4",
            "3de772e0c4d646198bea4203b8deb139",
            "19f9a88d76a94657af7b5eefe421104a",
            "de20958f209243ef838c8b7783a420b7",
            "f52545c5d8974f0ba75ad07f85972232",
            "df55c500a1514fb8920cb00f8b5f6461",
            "6ef25a4ba8054ec0ac0e6fb2f29348dd",
            "a8cddb1c54fb4b318c18bdadf1ebf8b2",
            "49100bd3b29e45fa8d02c0fc8dca291c",
            "99e21d22c51047c4806ea0e5022f5019",
            "35c9b5bc47e84b388b0bb0ec39c1f1c8",
            "70e71c0a65694bd3b3de03c0a9295d49",
            "42508ce3b9df4996b4b03cff34f947c5"
          ]
        },
        "id": "GZ_6l-JgVxYU",
        "outputId": "734ef8ed-f6f9-4a9a-df17-8cb486cf3a23"
      },
      "execution_count": 2,
      "outputs": [
        {
          "output_type": "stream",
          "name": "stdout",
          "text": [
            "Downloading and preparing dataset Unknown size (download: Unknown size, generated: Unknown size, total: Unknown size) to /root/tensorflow_datasets/imagenet_v2/topimages/3.0.0...\n"
          ]
        },
        {
          "output_type": "display_data",
          "data": {
            "text/plain": [
              "Dl Completed...: 0 url [00:00, ? url/s]"
            ],
            "application/vnd.jupyter.widget-view+json": {
              "version_major": 2,
              "version_minor": 0,
              "model_id": "4eebdfc739ac4526bf470fcd89e1343e"
            }
          },
          "metadata": {}
        },
        {
          "output_type": "display_data",
          "data": {
            "text/plain": [
              "Dl Size...: 0 MiB [00:00, ? MiB/s]"
            ],
            "application/vnd.jupyter.widget-view+json": {
              "version_major": 2,
              "version_minor": 0,
              "model_id": "51dc6652132843aeabf202fc6ea36951"
            }
          },
          "metadata": {}
        },
        {
          "output_type": "display_data",
          "data": {
            "text/plain": [
              "Extraction completed...: 0 file [00:00, ? file/s]"
            ],
            "application/vnd.jupyter.widget-view+json": {
              "version_major": 2,
              "version_minor": 0,
              "model_id": "24e7cb46affa4da9bd1f2e086c216df2"
            }
          },
          "metadata": {}
        },
        {
          "output_type": "display_data",
          "data": {
            "text/plain": [
              "Generating splits...:   0%|          | 0/1 [00:00<?, ? splits/s]"
            ],
            "application/vnd.jupyter.widget-view+json": {
              "version_major": 2,
              "version_minor": 0,
              "model_id": "1456641fbc864c3bbae542be36f63d88"
            }
          },
          "metadata": {}
        },
        {
          "output_type": "display_data",
          "data": {
            "text/plain": [
              "Generating test examples...: 0 examples [00:00, ? examples/s]"
            ],
            "application/vnd.jupyter.widget-view+json": {
              "version_major": 2,
              "version_minor": 0,
              "model_id": "9749e4697ae54032a0756f8da71e1ceb"
            }
          },
          "metadata": {}
        },
        {
          "output_type": "display_data",
          "data": {
            "text/plain": [
              "Shuffling /root/tensorflow_datasets/imagenet_v2/topimages/incomplete.VE8ZFA_3.0.0/imagenet_v2-test.tfrecord*..…"
            ],
            "application/vnd.jupyter.widget-view+json": {
              "version_major": 2,
              "version_minor": 0,
              "model_id": "19f9a88d76a94657af7b5eefe421104a"
            }
          },
          "metadata": {}
        },
        {
          "output_type": "stream",
          "name": "stdout",
          "text": [
            "Dataset imagenet_v2 downloaded and prepared to /root/tensorflow_datasets/imagenet_v2/topimages/3.0.0. Subsequent calls will reuse this data.\n"
          ]
        }
      ]
    },
    {
      "cell_type": "code",
      "source": [
        "#2 Load the 'test' split (10000 images, top‑images variant)\n",
        "tfds_ds = builder.as_dataset(split=\"test\", as_supervised=True)"
      ],
      "metadata": {
        "id": "1YPI6jnCqKu5"
      },
      "execution_count": 3,
      "outputs": []
    },
    {
      "cell_type": "code",
      "source": [
        "#3 Define a tiny IterableDataset wrapper\n",
        "class ImageNetV2TopImages(IterableDataset):\n",
        "    def __init__(self, tfds_dataset, transform=None):\n",
        "        self.ds = tfds_dataset\n",
        "        self.transform = transform\n",
        "\n",
        "    def __iter__(self):\n",
        "        for img, label in tfds.as_numpy(self.ds):\n",
        "            # img: HWC uint8 array, label: int\n",
        "            pil = Image.fromarray(img)\n",
        "            if self.transform:\n",
        "                pil = self.transform(pil)\n",
        "            yield pil, label"
      ],
      "metadata": {
        "id": "2vJVZ3nPrH5f"
      },
      "execution_count": 4,
      "outputs": []
    },
    {
      "cell_type": "code",
      "source": [
        "#4 Torch transforms (same as ResNet expects)\n",
        "preprocess = transforms.Compose([\n",
        "    transforms.Resize(256),\n",
        "    transforms.CenterCrop(224),\n",
        "    transforms.ToTensor(),\n",
        "    transforms.Normalize([0.485,0.456,0.406],\n",
        "                         [0.229,0.224,0.225]),\n",
        "])"
      ],
      "metadata": {
        "id": "2zSfaVnnraYL"
      },
      "execution_count": 5,
      "outputs": []
    },
    {
      "cell_type": "code",
      "source": [
        "#5 Instantiate DataLoader\n",
        "dataset = ImageNetV2TopImages(tfds_ds, transform=preprocess)\n",
        "loader  = DataLoader(dataset, batch_size=1, num_workers=4)"
      ],
      "metadata": {
        "colab": {
          "base_uri": "https://localhost:8080/"
        },
        "id": "UntGOOH3rdNt",
        "outputId": "89109c4c-60df-4744-9d73-0da34d61dde0"
      },
      "execution_count": 6,
      "outputs": [
        {
          "output_type": "stream",
          "name": "stderr",
          "text": [
            "/usr/local/lib/python3.11/dist-packages/torch/utils/data/dataloader.py:624: UserWarning: This DataLoader will create 4 worker processes in total. Our suggested max number of worker in current system is 2, which is smaller than what this DataLoader is going to create. Please be aware that excessive worker creation might get DataLoader running slow or even freeze, lower the worker number to avoid potential slowness/freeze if necessary.\n",
            "  warnings.warn(\n"
          ]
        }
      ]
    },
    {
      "cell_type": "code",
      "source": [
        "#Define models and cascade logic\n",
        "import time\n",
        "import torch.nn.functional as F\n",
        "from torchvision import models\n",
        "\n",
        "device = torch.device(\"cuda\" if torch.cuda.is_available() else \"cpu\")\n",
        "\n",
        "# Load pretrained ResNets\n",
        "resnet18  = models.resnet18(pretrained=True).to(device).eval()    #model A\n",
        "resnet34  = models.resnet34(pretrained=True).to(device).eval()    #model B\n",
        "resnet152 = models.resnet152(pretrained=True).to(device).eval()   #model C\n",
        "\n",
        "# Thresholds\n",
        "SKIP_THRESH = 0.3   # if ResNet18 conf < 0.3, skip ResNet34\n",
        "THR_A = 0.7 # IDK threshold for model A\n",
        "THR_B = 0.7 # IDK thresholds for model B\n",
        "\n",
        "def predict(model, x):\n",
        "    logits = model(x)\n",
        "    probs  = F.softmax(logits, dim=1)\n",
        "    conf, cls = torch.max(probs, dim=1)\n",
        "    return cls.item(), conf.item()\n",
        "\n",
        "def get_prediction(model, x, thr=None):\n",
        "    cls, conf = predict(model, x)\n",
        "    if thr is not None and conf < thr:\n",
        "        return \"IDK\", conf\n",
        "    return cls, conf\n",
        "\n",
        "def dynamic_idk_cascade(x):\n",
        "    # A: ResNet18\n",
        "    cls_a, conf_a = get_prediction(resnet18, x, THR_A)\n",
        "    if cls_a != \"IDK\":\n",
        "        return cls_a, conf_a, \"ResNet18\"\n",
        "    # B: ResNet34\n",
        "    cls_b, conf_b = get_prediction(resnet34, x, THR_B)\n",
        "    if cls_b != \"IDK\":\n",
        "        return cls_b, conf_b, \"ResNet34\"\n",
        "    # C: ResNet152\n",
        "    cls_c, conf_c = predict(resnet152, x)\n",
        "    return cls_c, conf_c, \"ResNet152\""
      ],
      "metadata": {
        "id": "5EcBCL8JsT9G",
        "collapsed": true,
        "colab": {
          "base_uri": "https://localhost:8080/"
        },
        "outputId": "b5e31d84-f3d5-471b-c2ff-876613aece32"
      },
      "execution_count": 7,
      "outputs": [
        {
          "output_type": "stream",
          "name": "stderr",
          "text": [
            "/usr/local/lib/python3.11/dist-packages/torchvision/models/_utils.py:208: UserWarning: The parameter 'pretrained' is deprecated since 0.13 and may be removed in the future, please use 'weights' instead.\n",
            "  warnings.warn(\n",
            "/usr/local/lib/python3.11/dist-packages/torchvision/models/_utils.py:223: UserWarning: Arguments other than a weight enum or `None` for 'weights' are deprecated since 0.13 and may be removed in the future. The current behavior is equivalent to passing `weights=ResNet18_Weights.IMAGENET1K_V1`. You can also use `weights=ResNet18_Weights.DEFAULT` to get the most up-to-date weights.\n",
            "  warnings.warn(msg)\n",
            "Downloading: \"https://download.pytorch.org/models/resnet18-f37072fd.pth\" to /root/.cache/torch/hub/checkpoints/resnet18-f37072fd.pth\n",
            "100%|██████████| 44.7M/44.7M [00:00<00:00, 72.7MB/s]\n",
            "/usr/local/lib/python3.11/dist-packages/torchvision/models/_utils.py:223: UserWarning: Arguments other than a weight enum or `None` for 'weights' are deprecated since 0.13 and may be removed in the future. The current behavior is equivalent to passing `weights=ResNet34_Weights.IMAGENET1K_V1`. You can also use `weights=ResNet34_Weights.DEFAULT` to get the most up-to-date weights.\n",
            "  warnings.warn(msg)\n",
            "Downloading: \"https://download.pytorch.org/models/resnet34-b627a593.pth\" to /root/.cache/torch/hub/checkpoints/resnet34-b627a593.pth\n",
            "100%|██████████| 83.3M/83.3M [00:00<00:00, 165MB/s]\n",
            "/usr/local/lib/python3.11/dist-packages/torchvision/models/_utils.py:223: UserWarning: Arguments other than a weight enum or `None` for 'weights' are deprecated since 0.13 and may be removed in the future. The current behavior is equivalent to passing `weights=ResNet152_Weights.IMAGENET1K_V1`. You can also use `weights=ResNet152_Weights.DEFAULT` to get the most up-to-date weights.\n",
            "  warnings.warn(msg)\n",
            "Downloading: \"https://download.pytorch.org/models/resnet152-394f9c45.pth\" to /root/.cache/torch/hub/checkpoints/resnet152-394f9c45.pth\n",
            "100%|██████████| 230M/230M [00:02<00:00, 84.9MB/s]\n"
          ]
        }
      ]
    },
    {
      "cell_type": "code",
      "source": [
        "from collections import Counter\n",
        "import time\n",
        "\n",
        "# Prepare counters\n",
        "branch_sum = Counter()\n",
        "branch_cnt = Counter()\n",
        "\n",
        "# RUN & EVALUATE\n",
        "MAX_IMAGES = 10000\n",
        "total      = 0\n",
        "correct    = 0\n",
        "sum_time   = 0.0\n",
        "\n",
        "for imgs, labels in loader:\n",
        "    total += 1\n",
        "    imgs, labels = imgs.to(device), labels.to(device)\n",
        "\n",
        "    start = time.time()\n",
        "    pred, conf, branch = dynamic_idk_cascade(imgs)\n",
        "    elapsed = time.time() - start\n",
        "\n",
        "    # Update overall stats\n",
        "    correct += (pred == labels.item())\n",
        "    sum_time += elapsed\n",
        "\n",
        "    # Update branch‑specific stats\n",
        "    branch_sum[branch] += elapsed\n",
        "    branch_cnt[branch] += 1\n",
        "\n",
        "    # Light logging\n",
        "    if total % 500 == 0:\n",
        "        print(f\"[{total:5d}] Pred={pred:4d}  Used={branch:<20s}  Time={elapsed*1000:.1f}ms\")\n",
        "\n",
        "    if total >= MAX_IMAGES:\n",
        "        break\n",
        "\n",
        "# Core metrics\n",
        "accuracy  = correct / total\n",
        "avg_time  = sum_time / total          # seconds per image\n",
        "\n",
        "# Skip rate (A→C)\n",
        "skip_rate = branch_cnt.get(\"ResNet152 (skipped B)\", 0) / total\n",
        "\n",
        "# Print summary\n",
        "print(\"\\n=== SUMMARY ===\")\n",
        "print(f\"Total images         : {total}\")\n",
        "print(f\"Accuracy             : {accuracy*100:.2f}%\")\n",
        "print(f\"Avg. time per input  : {avg_time*1000:.1f} ms\")\n",
        "print(f\"Skip rate (A→C)      : {skip_rate*100:.2f}%\\n\")\n",
        "\n",
        "# Breakdown by branch\n",
        "for branch, cnt in branch_cnt.items():\n",
        "    t = branch_sum[branch]\n",
        "    print(f\"  {branch:>20s} | Count: {cnt:5d} | Avg time: {t/cnt*1000:.1f} ms\")"
      ],
      "metadata": {
        "colab": {
          "base_uri": "https://localhost:8080/"
        },
        "collapsed": true,
        "id": "fZ_WQ3qshmk1",
        "outputId": "cd8a2b1b-176a-4a13-8832-754338fbded6"
      },
      "execution_count": 8,
      "outputs": [
        {
          "output_type": "stream",
          "name": "stdout",
          "text": [
            "[  500] Pred= 230  Used=ResNet152             Time=33.6ms\n",
            "[ 1000] Pred= 225  Used=ResNet34              Time=9.9ms\n",
            "[ 1500] Pred=  35  Used=ResNet18              Time=4.9ms\n",
            "[ 2000] Pred= 244  Used=ResNet18              Time=4.7ms\n",
            "[ 2500] Pred= 786  Used=ResNet18              Time=4.4ms\n",
            "[ 3000] Pred= 420  Used=ResNet18              Time=3.5ms\n",
            "[ 3500] Pred= 895  Used=ResNet18              Time=4.5ms\n",
            "[ 4000] Pred= 999  Used=ResNet34              Time=13.9ms\n",
            "[ 4500] Pred=  17  Used=ResNet18              Time=5.1ms\n",
            "[ 5000] Pred= 200  Used=ResNet152             Time=42.9ms\n",
            "[ 5500] Pred= 981  Used=ResNet34              Time=9.8ms\n",
            "[ 6000] Pred= 457  Used=ResNet18              Time=4.5ms\n",
            "[ 6500] Pred= 939  Used=ResNet152             Time=39.9ms\n",
            "[ 7000] Pred= 710  Used=ResNet18              Time=4.4ms\n",
            "[ 7500] Pred= 977  Used=ResNet152             Time=34.2ms\n",
            "[ 8000] Pred= 914  Used=ResNet152             Time=33.8ms\n",
            "[ 8500] Pred= 760  Used=ResNet18              Time=4.6ms\n",
            "[ 9000] Pred= 685  Used=ResNet18              Time=4.4ms\n",
            "[ 9500] Pred= 930  Used=ResNet152             Time=33.7ms\n",
            "[10000] Pred= 900  Used=ResNet152             Time=33.6ms\n",
            "\n",
            "=== SUMMARY ===\n",
            "Total images         : 10000\n",
            "Accuracy             : 79.04%\n",
            "Avg. time per input  : 15.1 ms\n",
            "Skip rate (A→C)      : 0.00%\n",
            "\n",
            "             ResNet152 | Count:  2596 | Avg time: 38.4 ms\n",
            "              ResNet18 | Count:  6044 | Avg time: 5.5 ms\n",
            "              ResNet34 | Count:  1360 | Avg time: 13.1 ms\n"
          ]
        }
      ]
    }
  ]
}
