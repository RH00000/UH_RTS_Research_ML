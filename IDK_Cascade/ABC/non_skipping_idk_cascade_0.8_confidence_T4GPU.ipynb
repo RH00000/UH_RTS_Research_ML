{
  "nbformat": 4,
  "nbformat_minor": 0,
  "metadata": {
    "colab": {
      "provenance": [],
      "gpuType": "T4",
      "authorship_tag": "ABX9TyMJH1zgswckv0Nd9n7pMflm",
      "include_colab_link": true
    },
    "kernelspec": {
      "name": "python3",
      "display_name": "Python 3"
    },
    "language_info": {
      "name": "python"
    },
    "accelerator": "GPU"
  },
  "cells": [
    {
      "cell_type": "markdown",
      "metadata": {
        "id": "view-in-github",
        "colab_type": "text"
      },
      "source": [
        "<a href=\"https://colab.research.google.com/github/RH00000/UH_RTS_Research_ML/blob/main/non_skipping_idk_cascade_0.8_confidence_T4GPU.ipynb\" target=\"_parent\"><img src=\"https://colab.research.google.com/assets/colab-badge.svg\" alt=\"Open In Colab\"/></a>"
      ]
    },
    {
      "cell_type": "code",
      "source": [
        "!pip install torch torchvision tensorflow-datasets"
      ],
      "metadata": {
        "id": "ivrc2earSZrh",
        "collapsed": true
      },
      "execution_count": null,
      "outputs": []
    },
    {
      "cell_type": "code",
      "source": [
        "#Load the ImaageNetV2 TopImages split\n",
        "import tensorflow_datasets as tfds\n",
        "import torch\n",
        "from torch.utils.data import IterableDataset, DataLoader\n",
        "from torchvision import transforms\n",
        "from PIL import Image\n",
        "\n",
        "# 1) Download & prepare the TFDS builder for ImageNetV2 TopImages\n",
        "builder = tfds.builder(\"imagenet_v2\", config=\"topimages\")\n",
        "builder.download_and_prepare()"
      ],
      "metadata": {
        "colab": {
          "base_uri": "https://localhost:8080/",
          "height": 148,
          "referenced_widgets": [
            "f257778d896c4f0e89bf4c371367b787",
            "9f9695400c4a4383b691e8284072fd72",
            "71c3c0ace63448e6ab10c6138882ded9",
            "99530dc21805465aa191a76d3fe37589",
            "0a9ee7350767452dad1c21bcbdf897c3",
            "9aafec394a6247048c40422ee63a0857",
            "a3cb08837ad44a7091ea759ebb1ab3bd",
            "7baa7dd6906f416391c483aeb3bf83cf",
            "cb5ae429b34b44bfb73b56c0b03d7b57",
            "23709ed1061f4e49b0497def2cedef1d",
            "2ba68ddbaa51466ba3186ba1176683d4",
            "c5d6e8e711d44185be406c7d302407ec",
            "4c1fb40e57be4f61b764ac1ef4b38b5e",
            "6b179fce8cc540459510607b5cc1196c",
            "4006f807ea1c48b1ad70d583db706c1d",
            "35bff60d32ac4438914b4f79dec62919",
            "39c1d0c787b3477c81e89e12f6c54cd8",
            "5bf9792b3c574719b60bb8603e518f0c",
            "3d48e7a6f97a4d1d8f009c01757be39c",
            "f8f546f011a5418f9539956fc1bd623e",
            "3ac7fc43a75148aa8ab2f62d03628c33",
            "8e87719778974bc79cb5584b12ed3a8b",
            "9f41c694f9a04281b557398ddfa049e0",
            "23864ed92ad743638e73d1bf731094fd",
            "755a7595d21e49588204b771826aa134",
            "269ab87375b84ac8a32976b69fb44fc8",
            "756c6fb2ad284c8bb69a6d313df5ddab",
            "ba354e80662647a19e7d6d7e11d10065",
            "ea1d902ebf73414d85dac978fc0129eb",
            "04b4ae7e77384d8d84489729f948519b",
            "b289472ed04746babf8eb91dda05b0cb",
            "a41aa35586a34dc18402a5d734359f9b",
            "aac656573a854a0a95b4aaf10c4530ab",
            "9cf9284484114c88aaa623c84d1c6a50",
            "d568d2189aa54d638f5767d5748be696",
            "82ce96c4f7c94c87a42a92f9bdba4d13",
            "0bb9f03270f74516976e395564f51a68",
            "5c6683dbc3354ff6a3df08a484976b5a",
            "f62e55a386c6484fb008507dca20c659",
            "bb8e17aaf7b0445e9227f5aeedcb53c8",
            "8b856690f9d54e0e93170776d0dcd930",
            "e12249be408f44418405c765079df410",
            "8a6b095f6f9441179a1694799a746929",
            "9d76bf2fbc034b44a196577f924256db",
            "68c66bf5b1aa45228c246e6826d68bcc",
            "42cb447ca2bc454492232024c0e633a1",
            "1cd201423863484dbc008807bdd585c3",
            "35cd1c792fa9404094e44d09c27a871e",
            "9bd4e80cc11d491a8c8874e02534618f",
            "2cab606f9bdf44baba218b590f6d2685",
            "7c595a4b52554a44bf4164d61dd5bbb3",
            "eda41a2a51d74ea59e82efecf2f9fcda",
            "727cc57eeaff4229919558eccae5babe",
            "a6e3913a507b4628900dc9034c5dba76",
            "97d157a7289040a885c86756c946981a",
            "29ec3fec35b0429eabff6119fda188fc",
            "f5eb9dc0f6f8408cb9be193b49105f6c",
            "142e014f4fc44d4b8c03664303b10f25",
            "1516478e0aa947df82247aa4a4c2733b",
            "10b302dd462544e7b6b099442636e7a2",
            "7e64f2a939974bd88448a8c9e73e2a37",
            "a7c86ddd22374b8aa895104884e1c026",
            "1c5cd3e779ab4d1e8b61dba5bab64248",
            "d5d4663fa625473ab3c3317f8cb2fa8c",
            "493894e1991d4a11ba7121f5af72b8f0",
            "14d56c057e8842248ee2fea2fdc0ecf1"
          ]
        },
        "id": "GZ_6l-JgVxYU",
        "outputId": "8834b7dd-bd05-49fd-e252-7a181f04eae9"
      },
      "execution_count": 2,
      "outputs": [
        {
          "output_type": "stream",
          "name": "stdout",
          "text": [
            "Downloading and preparing dataset Unknown size (download: Unknown size, generated: Unknown size, total: Unknown size) to /root/tensorflow_datasets/imagenet_v2/topimages/3.0.0...\n"
          ]
        },
        {
          "output_type": "display_data",
          "data": {
            "text/plain": [
              "Dl Completed...: 0 url [00:00, ? url/s]"
            ],
            "application/vnd.jupyter.widget-view+json": {
              "version_major": 2,
              "version_minor": 0,
              "model_id": "f257778d896c4f0e89bf4c371367b787"
            }
          },
          "metadata": {}
        },
        {
          "output_type": "display_data",
          "data": {
            "text/plain": [
              "Dl Size...: 0 MiB [00:00, ? MiB/s]"
            ],
            "application/vnd.jupyter.widget-view+json": {
              "version_major": 2,
              "version_minor": 0,
              "model_id": "c5d6e8e711d44185be406c7d302407ec"
            }
          },
          "metadata": {}
        },
        {
          "output_type": "display_data",
          "data": {
            "text/plain": [
              "Extraction completed...: 0 file [00:00, ? file/s]"
            ],
            "application/vnd.jupyter.widget-view+json": {
              "version_major": 2,
              "version_minor": 0,
              "model_id": "9f41c694f9a04281b557398ddfa049e0"
            }
          },
          "metadata": {}
        },
        {
          "output_type": "display_data",
          "data": {
            "text/plain": [
              "Generating splits...:   0%|          | 0/1 [00:00<?, ? splits/s]"
            ],
            "application/vnd.jupyter.widget-view+json": {
              "version_major": 2,
              "version_minor": 0,
              "model_id": "9cf9284484114c88aaa623c84d1c6a50"
            }
          },
          "metadata": {}
        },
        {
          "output_type": "display_data",
          "data": {
            "text/plain": [
              "Generating test examples...: 0 examples [00:00, ? examples/s]"
            ],
            "application/vnd.jupyter.widget-view+json": {
              "version_major": 2,
              "version_minor": 0,
              "model_id": "68c66bf5b1aa45228c246e6826d68bcc"
            }
          },
          "metadata": {}
        },
        {
          "output_type": "display_data",
          "data": {
            "text/plain": [
              "Shuffling /root/tensorflow_datasets/imagenet_v2/topimages/incomplete.ND201N_3.0.0/imagenet_v2-test.tfrecord*..…"
            ],
            "application/vnd.jupyter.widget-view+json": {
              "version_major": 2,
              "version_minor": 0,
              "model_id": "29ec3fec35b0429eabff6119fda188fc"
            }
          },
          "metadata": {}
        },
        {
          "output_type": "stream",
          "name": "stdout",
          "text": [
            "Dataset imagenet_v2 downloaded and prepared to /root/tensorflow_datasets/imagenet_v2/topimages/3.0.0. Subsequent calls will reuse this data.\n"
          ]
        }
      ]
    },
    {
      "cell_type": "code",
      "source": [
        "#2 Load the 'test' split (10000 images, top‑images variant)\n",
        "tfds_ds = builder.as_dataset(split=\"test\", as_supervised=True)"
      ],
      "metadata": {
        "id": "1YPI6jnCqKu5"
      },
      "execution_count": 3,
      "outputs": []
    },
    {
      "cell_type": "code",
      "source": [
        "#3 Define a tiny IterableDataset wrapper\n",
        "class ImageNetV2TopImages(IterableDataset):\n",
        "    def __init__(self, tfds_dataset, transform=None):\n",
        "        self.ds = tfds_dataset\n",
        "        self.transform = transform\n",
        "\n",
        "    def __iter__(self):\n",
        "        for img, label in tfds.as_numpy(self.ds):\n",
        "            # img: HWC uint8 array, label: int\n",
        "            pil = Image.fromarray(img)\n",
        "            if self.transform:\n",
        "                pil = self.transform(pil)\n",
        "            yield pil, label"
      ],
      "metadata": {
        "id": "2vJVZ3nPrH5f"
      },
      "execution_count": 4,
      "outputs": []
    },
    {
      "cell_type": "code",
      "source": [
        "#4 Torch transforms (same as ResNet expects)\n",
        "preprocess = transforms.Compose([\n",
        "    transforms.Resize(256),\n",
        "    transforms.CenterCrop(224),\n",
        "    transforms.ToTensor(),\n",
        "    transforms.Normalize([0.485,0.456,0.406],\n",
        "                         [0.229,0.224,0.225]),\n",
        "])"
      ],
      "metadata": {
        "id": "2zSfaVnnraYL"
      },
      "execution_count": 5,
      "outputs": []
    },
    {
      "cell_type": "code",
      "source": [
        "#5 Instantiate DataLoader\n",
        "dataset = ImageNetV2TopImages(tfds_ds, transform=preprocess)\n",
        "loader  = DataLoader(dataset, batch_size=1, num_workers=4)"
      ],
      "metadata": {
        "colab": {
          "base_uri": "https://localhost:8080/"
        },
        "id": "UntGOOH3rdNt",
        "outputId": "f4652e6c-c759-4e12-fd10-3c890649040a"
      },
      "execution_count": 6,
      "outputs": [
        {
          "output_type": "stream",
          "name": "stderr",
          "text": [
            "/usr/local/lib/python3.11/dist-packages/torch/utils/data/dataloader.py:624: UserWarning: This DataLoader will create 4 worker processes in total. Our suggested max number of worker in current system is 2, which is smaller than what this DataLoader is going to create. Please be aware that excessive worker creation might get DataLoader running slow or even freeze, lower the worker number to avoid potential slowness/freeze if necessary.\n",
            "  warnings.warn(\n"
          ]
        }
      ]
    },
    {
      "cell_type": "code",
      "source": [
        "#Define models and cascade logic\n",
        "import time\n",
        "import torch.nn.functional as F\n",
        "from torchvision import models\n",
        "\n",
        "device = torch.device(\"cuda\" if torch.cuda.is_available() else \"cpu\")\n",
        "\n",
        "# Load pretrained ResNets\n",
        "resnet18  = models.resnet18(pretrained=True).to(device).eval()    #model A\n",
        "resnet34  = models.resnet34(pretrained=True).to(device).eval()    #model B\n",
        "resnet152 = models.resnet152(pretrained=True).to(device).eval()   #model C\n",
        "\n",
        "# Thresholds\n",
        "SKIP_THRESH = 0.3   # if ResNet18 conf < 0.3, skip ResNet34\n",
        "THR_A = 0.8 # IDK threshold for model A\n",
        "THR_B = 0.8 # IDK thresholds for model B\n",
        "\n",
        "def predict(model, x):\n",
        "    logits = model(x)\n",
        "    probs  = F.softmax(logits, dim=1)\n",
        "    conf, cls = torch.max(probs, dim=1)\n",
        "    return cls.item(), conf.item()\n",
        "\n",
        "def get_prediction(model, x, thr=None):\n",
        "    cls, conf = predict(model, x)\n",
        "    if thr is not None and conf < thr:\n",
        "        return \"IDK\", conf\n",
        "    return cls, conf\n",
        "\n",
        "def dynamic_idk_cascade(x):\n",
        "    # A: ResNet18\n",
        "    cls_a, conf_a = get_prediction(resnet18, x, THR_A)\n",
        "    if cls_a != \"IDK\":\n",
        "        return cls_a, conf_a, \"ResNet18\"\n",
        "    # B: ResNet34\n",
        "    cls_b, conf_b = get_prediction(resnet34, x, THR_B)\n",
        "    if cls_b != \"IDK\":\n",
        "        return cls_b, conf_b, \"ResNet34\"\n",
        "    # C: ResNet152\n",
        "    cls_c, conf_c = predict(resnet152, x)\n",
        "    return cls_c, conf_c, \"ResNet152\""
      ],
      "metadata": {
        "id": "5EcBCL8JsT9G",
        "collapsed": true
      },
      "execution_count": 8,
      "outputs": []
    },
    {
      "cell_type": "code",
      "source": [
        "from collections import Counter\n",
        "import time\n",
        "\n",
        "# Prepare counters\n",
        "branch_sum = Counter()\n",
        "branch_cnt = Counter()\n",
        "\n",
        "# RUN & EVALUATE\n",
        "MAX_IMAGES = 10000\n",
        "total      = 0\n",
        "correct    = 0\n",
        "sum_time   = 0.0\n",
        "\n",
        "for imgs, labels in loader:\n",
        "    total += 1\n",
        "    imgs, labels = imgs.to(device), labels.to(device)\n",
        "\n",
        "    start = time.time()\n",
        "    pred, conf, branch = dynamic_idk_cascade(imgs)\n",
        "    elapsed = time.time() - start\n",
        "\n",
        "    # Update overall stats\n",
        "    correct += (pred == labels.item())\n",
        "    sum_time += elapsed\n",
        "\n",
        "    # Update branch‑specific stats\n",
        "    branch_sum[branch] += elapsed\n",
        "    branch_cnt[branch] += 1\n",
        "\n",
        "    # Light logging\n",
        "    if total % 500 == 0:\n",
        "        print(f\"[{total:5d}] Pred={pred:4d}  Used={branch:<20s}  Time={elapsed*1000:.1f}ms\")\n",
        "\n",
        "    if total >= MAX_IMAGES:\n",
        "        break\n",
        "\n",
        "# Core metrics\n",
        "accuracy  = correct / total\n",
        "avg_time  = sum_time / total          # seconds per image\n",
        "\n",
        "# Skip rate (A→C)\n",
        "skip_rate = branch_cnt.get(\"ResNet152 (skipped B)\", 0) / total\n",
        "\n",
        "# Print summary\n",
        "print(\"\\n=== SUMMARY ===\")\n",
        "print(f\"Total images         : {total}\")\n",
        "print(f\"Accuracy             : {accuracy*100:.2f}%\")\n",
        "print(f\"Avg. time per input  : {avg_time*1000:.1f} ms\")\n",
        "print(f\"Skip rate (A→C)      : {skip_rate*100:.2f}%\\n\")\n",
        "\n",
        "# Breakdown by branch\n",
        "for branch, cnt in branch_cnt.items():\n",
        "    t = branch_sum[branch]\n",
        "    print(f\"  {branch:>20s} | Count: {cnt:5d} | Avg time: {t/cnt*1000:.1f} ms\")"
      ],
      "metadata": {
        "colab": {
          "base_uri": "https://localhost:8080/"
        },
        "collapsed": true,
        "id": "fZ_WQ3qshmk1",
        "outputId": "4a576ee2-6381-4913-d45d-33bbad26b108"
      },
      "execution_count": 9,
      "outputs": [
        {
          "output_type": "stream",
          "name": "stdout",
          "text": [
            "[  500] Pred= 230  Used=ResNet152             Time=32.1ms\n",
            "[ 1000] Pred= 225  Used=ResNet34              Time=13.1ms\n",
            "[ 1500] Pred=  35  Used=ResNet18              Time=7.8ms\n",
            "[ 2000] Pred= 244  Used=ResNet18              Time=5.0ms\n",
            "[ 2500] Pred= 763  Used=ResNet152             Time=35.5ms\n",
            "[ 3000] Pred= 420  Used=ResNet18              Time=5.5ms\n",
            "[ 3500] Pred= 404  Used=ResNet152             Time=36.3ms\n",
            "[ 4000] Pred= 700  Used=ResNet152             Time=34.3ms\n",
            "[ 4500] Pred=  17  Used=ResNet18              Time=4.8ms\n",
            "[ 5000] Pred= 200  Used=ResNet152             Time=35.6ms\n",
            "[ 5500] Pred= 429  Used=ResNet152             Time=36.6ms\n",
            "[ 6000] Pred= 457  Used=ResNet18              Time=4.6ms\n",
            "[ 6500] Pred= 939  Used=ResNet152             Time=41.9ms\n",
            "[ 7000] Pred= 710  Used=ResNet18              Time=5.1ms\n",
            "[ 7500] Pred= 977  Used=ResNet152             Time=35.5ms\n",
            "[ 8000] Pred= 914  Used=ResNet152             Time=36.2ms\n",
            "[ 8500] Pred= 760  Used=ResNet18              Time=4.5ms\n",
            "[ 9000] Pred= 685  Used=ResNet18              Time=4.4ms\n",
            "[ 9500] Pred= 930  Used=ResNet152             Time=44.2ms\n",
            "[10000] Pred= 900  Used=ResNet152             Time=46.6ms\n",
            "\n",
            "=== SUMMARY ===\n",
            "Total images         : 10000\n",
            "Accuracy             : 79.88%\n",
            "Avg. time per input  : 18.6 ms\n",
            "Skip rate (A→C)      : 0.00%\n",
            "\n",
            "             ResNet152 | Count:  3516 | Avg time: 39.3 ms\n",
            "              ResNet18 | Count:  5176 | Avg time: 5.8 ms\n",
            "              ResNet34 | Count:  1308 | Avg time: 13.8 ms\n"
          ]
        }
      ]
    }
  ]
}
