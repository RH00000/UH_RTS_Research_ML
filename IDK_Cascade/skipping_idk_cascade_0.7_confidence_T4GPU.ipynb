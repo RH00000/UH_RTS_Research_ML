{
  "nbformat": 4,
  "nbformat_minor": 0,
  "metadata": {
    "colab": {
      "provenance": [],
      "gpuType": "T4",
      "authorship_tag": "ABX9TyNwhccVPA8NxXxYRAL4lpgB",
      "include_colab_link": true
    },
    "kernelspec": {
      "name": "python3",
      "display_name": "Python 3"
    },
    "language_info": {
      "name": "python"
    },
    "accelerator": "GPU"
  },
  "cells": [
    {
      "cell_type": "markdown",
      "metadata": {
        "id": "view-in-github",
        "colab_type": "text"
      },
      "source": [
        "<a href=\"https://colab.research.google.com/github/RH00000/UH_RTS_Research_ML/blob/main/skipping_idk_cascade_0.7_confidence_T4GPU.ipynb\" target=\"_parent\"><img src=\"https://colab.research.google.com/assets/colab-badge.svg\" alt=\"Open In Colab\"/></a>"
      ]
    },
    {
      "cell_type": "code",
      "source": [
        "!pip install torch torchvision tensorflow-datasets"
      ],
      "metadata": {
        "id": "ivrc2earSZrh",
        "collapsed": true
      },
      "execution_count": null,
      "outputs": []
    },
    {
      "cell_type": "code",
      "source": [
        "#Load the ImaageNetV2 TopImages split\n",
        "import tensorflow_datasets as tfds\n",
        "import torch\n",
        "from torch.utils.data import IterableDataset, DataLoader\n",
        "from torchvision import transforms\n",
        "from PIL import Image\n",
        "\n",
        "# 1) Download & prepare the TFDS builder for ImageNetV2 TopImages\n",
        "builder = tfds.builder(\"imagenet_v2\", config=\"topimages\")\n",
        "builder.download_and_prepare()"
      ],
      "metadata": {
        "colab": {
          "base_uri": "https://localhost:8080/",
          "height": 148,
          "referenced_widgets": [
            "c5f3b13996334047b93fb61b1dee1aff",
            "99d27b85f4024b9a9c038f46f331bfbf",
            "bffe100bdd204285b2d600d091d9ceab",
            "8bf7f2b6b9d141d4b6869ac5a95a54bb",
            "a22ae088c0304edd932ab9100c783456",
            "eb04be7f0a96409485d12d1265e89c42",
            "83e5e2e089084496bd6d3ba33a8a80b2",
            "90b7377beefa457a9fd54537e3b162a6",
            "df02bd7a6c9a49ffb7af53fbfc044648",
            "62c162905fdf4272a2257281e768f683",
            "8d353013beae49bea15c548052e3fa05",
            "7a6b5823c3a142d397a8971e1dad101c",
            "3567f9f298bd4a11a8711206308f7172",
            "be5c65560e734cd7b6745811a4a16fcc",
            "e040fd74732048c28669195286e628a9",
            "3d68a99219f14f728608e73bbb2c62d9",
            "628c9d06142f4421a3192128bc0f0ad1",
            "58d1b3a1516c41df8a36ef29499e0841",
            "cf31ebdd9135403c983086379aa17a42",
            "69e7b88cde3b4cb5a1ef691c3a901a93",
            "130a70793aec436ba297e98da0ea6479",
            "c171e1e87afd433398d2e1bb9c705f12",
            "ac4e29c901ee4813bfb7d6cacacbeabf",
            "c47beffd0c1640b6948f2d76744f03c0",
            "cdd9677db4df41489b998a4d6b40f9ef",
            "3f0856b4f5ad4e92acff1b2b6752b5d4",
            "c6859773d1db4e9491f03d751b199cda",
            "83a2c6592c24431a954ae5c447506399",
            "5c232f688cb34bb09865c26d4f430d38",
            "4a7cb5d4fc57413ba3a55429c7c5d389",
            "9b493c8d0af14396a1f43745258e5b28",
            "3fca460de5a84df28838a9d4ede291f2",
            "abcb6328440243b0a40cbdd0f956a5ad",
            "f1556fe7697346b684f3cf5612197674",
            "570784f5c4e442b8bc9c8cc54ea23af2",
            "af65e46cd8ee4a2a8181315714fd7d98",
            "14019ee2662f4a82a7ce486ea63d8ecf",
            "499da66fc37b4b189fef9a7b469cb61e",
            "a564e5dd6e1749979f27f1df7958215d",
            "dff178f8290e4cccab7fec95d70f933e",
            "6d55136cc66d45e395789f0d1f09a218",
            "2e7985125f1d4258bef029c1036ec358",
            "3ef7e39cbecb4f8186db8d01513c7fc2",
            "2578856c48fd4ac3b003d2538e6a0848",
            "284ca7de596042d3a2f9eb16914bf3f1",
            "ba3c334881a0430d84765ffe792e7928",
            "3198102093aa44ae84a1185411e808da",
            "31c3826fb93d4c619900482db0dab040",
            "2aced230f91d496792ebf05bb501796b",
            "2e8bbb7c937442459ca826c58cd44e77",
            "692854329f8b4784b418564f18745210",
            "dd02d9946e98439e854a9c07c22a8d95",
            "6666793b4ddb4b2fa94f3f3dcc560728",
            "a6de83cbeef34262a2fdc5468d8debc8",
            "11aa8dfbdc63417382611b0b2a767079",
            "17e5917a0a7149e4a271e15f150bfd7f",
            "2319c1c599894618be11b1eaa96a1cfc",
            "a0dfae3b1ac74672b0fe95d4190ea859",
            "43c91400795a42a1af0ffa10f416c4bf",
            "8e0602cd632c4f4cba9b86153c2d268f",
            "ccc48c4163d04174a598ae3addcb105f",
            "a3df618222ff46b08161159f21d9cf04",
            "71572b17d4cd4e8e85eafa5c1fc39e72",
            "e7a3a0c1fa644c1ca263eee201e04bd7",
            "a6a7cd5ab6ed47ed946fac4b0ba51c7c",
            "9b86d91c0e644c168c49276b5dec644f"
          ]
        },
        "id": "GZ_6l-JgVxYU",
        "outputId": "0ff787ee-05b9-404a-d500-fced88538cc6"
      },
      "execution_count": 2,
      "outputs": [
        {
          "output_type": "stream",
          "name": "stdout",
          "text": [
            "Downloading and preparing dataset Unknown size (download: Unknown size, generated: Unknown size, total: Unknown size) to /root/tensorflow_datasets/imagenet_v2/topimages/3.0.0...\n"
          ]
        },
        {
          "output_type": "display_data",
          "data": {
            "text/plain": [
              "Dl Completed...: 0 url [00:00, ? url/s]"
            ],
            "application/vnd.jupyter.widget-view+json": {
              "version_major": 2,
              "version_minor": 0,
              "model_id": "c5f3b13996334047b93fb61b1dee1aff"
            }
          },
          "metadata": {}
        },
        {
          "output_type": "display_data",
          "data": {
            "text/plain": [
              "Dl Size...: 0 MiB [00:00, ? MiB/s]"
            ],
            "application/vnd.jupyter.widget-view+json": {
              "version_major": 2,
              "version_minor": 0,
              "model_id": "7a6b5823c3a142d397a8971e1dad101c"
            }
          },
          "metadata": {}
        },
        {
          "output_type": "display_data",
          "data": {
            "text/plain": [
              "Extraction completed...: 0 file [00:00, ? file/s]"
            ],
            "application/vnd.jupyter.widget-view+json": {
              "version_major": 2,
              "version_minor": 0,
              "model_id": "ac4e29c901ee4813bfb7d6cacacbeabf"
            }
          },
          "metadata": {}
        },
        {
          "output_type": "display_data",
          "data": {
            "text/plain": [
              "Generating splits...:   0%|          | 0/1 [00:00<?, ? splits/s]"
            ],
            "application/vnd.jupyter.widget-view+json": {
              "version_major": 2,
              "version_minor": 0,
              "model_id": "f1556fe7697346b684f3cf5612197674"
            }
          },
          "metadata": {}
        },
        {
          "output_type": "display_data",
          "data": {
            "text/plain": [
              "Generating test examples...: 0 examples [00:00, ? examples/s]"
            ],
            "application/vnd.jupyter.widget-view+json": {
              "version_major": 2,
              "version_minor": 0,
              "model_id": "284ca7de596042d3a2f9eb16914bf3f1"
            }
          },
          "metadata": {}
        },
        {
          "output_type": "display_data",
          "data": {
            "text/plain": [
              "Shuffling /root/tensorflow_datasets/imagenet_v2/topimages/incomplete.1AVW1K_3.0.0/imagenet_v2-test.tfrecord*..…"
            ],
            "application/vnd.jupyter.widget-view+json": {
              "version_major": 2,
              "version_minor": 0,
              "model_id": "17e5917a0a7149e4a271e15f150bfd7f"
            }
          },
          "metadata": {}
        },
        {
          "output_type": "stream",
          "name": "stdout",
          "text": [
            "Dataset imagenet_v2 downloaded and prepared to /root/tensorflow_datasets/imagenet_v2/topimages/3.0.0. Subsequent calls will reuse this data.\n"
          ]
        }
      ]
    },
    {
      "cell_type": "code",
      "source": [
        "#2 Load the 'test' split (10000 images, top‑images variant)\n",
        "tfds_ds = builder.as_dataset(split=\"test\", as_supervised=True)"
      ],
      "metadata": {
        "id": "1YPI6jnCqKu5"
      },
      "execution_count": 3,
      "outputs": []
    },
    {
      "cell_type": "code",
      "source": [
        "#3 Define a tiny IterableDataset wrapper\n",
        "class ImageNetV2TopImages(IterableDataset):\n",
        "    def __init__(self, tfds_dataset, transform=None):\n",
        "        self.ds = tfds_dataset\n",
        "        self.transform = transform\n",
        "\n",
        "    def __iter__(self):\n",
        "        for img, label in tfds.as_numpy(self.ds):\n",
        "            # img: HWC uint8 array, label: int\n",
        "            pil = Image.fromarray(img)\n",
        "            if self.transform:\n",
        "                pil = self.transform(pil)\n",
        "            yield pil, label"
      ],
      "metadata": {
        "id": "2vJVZ3nPrH5f"
      },
      "execution_count": 4,
      "outputs": []
    },
    {
      "cell_type": "code",
      "source": [
        "#4 Torch transforms (same as ResNet expects)\n",
        "preprocess = transforms.Compose([\n",
        "    transforms.Resize(256),\n",
        "    transforms.CenterCrop(224),\n",
        "    transforms.ToTensor(),\n",
        "    transforms.Normalize([0.485,0.456,0.406],\n",
        "                         [0.229,0.224,0.225]),\n",
        "])"
      ],
      "metadata": {
        "id": "2zSfaVnnraYL"
      },
      "execution_count": 5,
      "outputs": []
    },
    {
      "cell_type": "code",
      "source": [
        "#5 Instantiate DataLoader\n",
        "dataset = ImageNetV2TopImages(tfds_ds, transform=preprocess)\n",
        "loader  = DataLoader(dataset, batch_size=1, num_workers=4)"
      ],
      "metadata": {
        "colab": {
          "base_uri": "https://localhost:8080/"
        },
        "id": "UntGOOH3rdNt",
        "outputId": "28acecc6-d02f-4aa0-8641-040587d29fbf"
      },
      "execution_count": 6,
      "outputs": [
        {
          "output_type": "stream",
          "name": "stderr",
          "text": [
            "/usr/local/lib/python3.11/dist-packages/torch/utils/data/dataloader.py:624: UserWarning: This DataLoader will create 4 worker processes in total. Our suggested max number of worker in current system is 2, which is smaller than what this DataLoader is going to create. Please be aware that excessive worker creation might get DataLoader running slow or even freeze, lower the worker number to avoid potential slowness/freeze if necessary.\n",
            "  warnings.warn(\n"
          ]
        }
      ]
    },
    {
      "cell_type": "code",
      "source": [
        "#Define models and cascade logic\n",
        "import time\n",
        "import torch.nn.functional as F\n",
        "from torchvision import models\n",
        "\n",
        "device = torch.device(\"cuda\" if torch.cuda.is_available() else \"cpu\")\n",
        "\n",
        "# Load pretrained ResNets\n",
        "resnet18  = models.resnet18(pretrained=True).to(device).eval()    #model A\n",
        "resnet34  = models.resnet34(pretrained=True).to(device).eval()    #model B\n",
        "resnet152 = models.resnet152(pretrained=True).to(device).eval()   #model C\n",
        "\n",
        "# Thresholds\n",
        "SKIP_THRESH = 0.3   # if ResNet18 conf < 0.3, skip ResNet34\n",
        "THR_A = 0.7 # IDK threshold for model A\n",
        "THR_B = 0.7 # IDK thresholds for model B\n",
        "\n",
        "def predict(model, x):\n",
        "    logits = model(x)\n",
        "    probs  = F.softmax(logits, dim=1)\n",
        "    conf, cls = torch.max(probs, dim=1)\n",
        "    return cls.item(), conf.item()\n",
        "\n",
        "def get_prediction(model, x, thr=None):\n",
        "    cls, conf = predict(model, x)\n",
        "    if thr is not None and conf < thr:\n",
        "        return \"IDK\", conf\n",
        "    return cls, conf\n",
        "\n",
        "def dynamic_idk_cascade(x):\n",
        "    # A: ResNet18\n",
        "    cls_a, conf_a = get_prediction(resnet18, x, THR_A)\n",
        "    if cls_a != \"IDK\":\n",
        "        return cls_a, conf_a, \"ResNet18\"\n",
        "    # Skip logic\n",
        "    if conf_a < SKIP_THRESH:\n",
        "        cls_c, conf_c = predict(resnet152, x)\n",
        "        return cls_c, conf_c, \"ResNet152 (skipped B)\"\n",
        "    # B: ResNet34\n",
        "    cls_b, conf_b = get_prediction(resnet34, x, THR_B)\n",
        "    if cls_b != \"IDK\":\n",
        "        return cls_b, conf_b, \"ResNet34\"\n",
        "    # C: ResNet152\n",
        "    cls_c, conf_c = predict(resnet152, x)\n",
        "    return cls_c, conf_c, \"ResNet152\""
      ],
      "metadata": {
        "id": "5EcBCL8JsT9G",
        "collapsed": true,
        "colab": {
          "base_uri": "https://localhost:8080/"
        },
        "outputId": "92e7fceb-a074-4f07-fedb-c1b43306e12e"
      },
      "execution_count": 7,
      "outputs": [
        {
          "output_type": "stream",
          "name": "stderr",
          "text": [
            "/usr/local/lib/python3.11/dist-packages/torchvision/models/_utils.py:208: UserWarning: The parameter 'pretrained' is deprecated since 0.13 and may be removed in the future, please use 'weights' instead.\n",
            "  warnings.warn(\n",
            "/usr/local/lib/python3.11/dist-packages/torchvision/models/_utils.py:223: UserWarning: Arguments other than a weight enum or `None` for 'weights' are deprecated since 0.13 and may be removed in the future. The current behavior is equivalent to passing `weights=ResNet18_Weights.IMAGENET1K_V1`. You can also use `weights=ResNet18_Weights.DEFAULT` to get the most up-to-date weights.\n",
            "  warnings.warn(msg)\n",
            "Downloading: \"https://download.pytorch.org/models/resnet18-f37072fd.pth\" to /root/.cache/torch/hub/checkpoints/resnet18-f37072fd.pth\n",
            "100%|██████████| 44.7M/44.7M [00:00<00:00, 87.7MB/s]\n",
            "/usr/local/lib/python3.11/dist-packages/torchvision/models/_utils.py:223: UserWarning: Arguments other than a weight enum or `None` for 'weights' are deprecated since 0.13 and may be removed in the future. The current behavior is equivalent to passing `weights=ResNet34_Weights.IMAGENET1K_V1`. You can also use `weights=ResNet34_Weights.DEFAULT` to get the most up-to-date weights.\n",
            "  warnings.warn(msg)\n",
            "Downloading: \"https://download.pytorch.org/models/resnet34-b627a593.pth\" to /root/.cache/torch/hub/checkpoints/resnet34-b627a593.pth\n",
            "100%|██████████| 83.3M/83.3M [00:00<00:00, 163MB/s]\n",
            "/usr/local/lib/python3.11/dist-packages/torchvision/models/_utils.py:223: UserWarning: Arguments other than a weight enum or `None` for 'weights' are deprecated since 0.13 and may be removed in the future. The current behavior is equivalent to passing `weights=ResNet152_Weights.IMAGENET1K_V1`. You can also use `weights=ResNet152_Weights.DEFAULT` to get the most up-to-date weights.\n",
            "  warnings.warn(msg)\n",
            "Downloading: \"https://download.pytorch.org/models/resnet152-394f9c45.pth\" to /root/.cache/torch/hub/checkpoints/resnet152-394f9c45.pth\n",
            "100%|██████████| 230M/230M [00:02<00:00, 88.5MB/s]\n"
          ]
        }
      ]
    },
    {
      "cell_type": "code",
      "source": [
        "from collections import Counter\n",
        "import time\n",
        "\n",
        "# Prepare counters\n",
        "branch_sum = Counter()\n",
        "branch_cnt = Counter()\n",
        "\n",
        "# RUN & EVALUATE\n",
        "MAX_IMAGES = 10000\n",
        "total      = 0\n",
        "correct    = 0\n",
        "sum_time   = 0.0\n",
        "\n",
        "for imgs, labels in loader:\n",
        "    total += 1\n",
        "    imgs, labels = imgs.to(device), labels.to(device)\n",
        "\n",
        "    start = time.time()\n",
        "    pred, conf, branch = dynamic_idk_cascade(imgs)\n",
        "    elapsed = time.time() - start\n",
        "\n",
        "    # Update overall stats\n",
        "    correct += (pred == labels.item())\n",
        "    sum_time += elapsed\n",
        "\n",
        "    # Update branch‑specific stats\n",
        "    branch_sum[branch] += elapsed\n",
        "    branch_cnt[branch] += 1\n",
        "\n",
        "    # Light logging\n",
        "    if total % 500 == 0:\n",
        "        print(f\"[{total:5d}] Pred={pred:4d}  Used={branch:<20s}  Time={elapsed*1000:.1f}ms\")\n",
        "\n",
        "    if total >= MAX_IMAGES:\n",
        "        break\n",
        "\n",
        "# Core metrics\n",
        "accuracy  = correct / total\n",
        "avg_time  = sum_time / total          # seconds per image\n",
        "\n",
        "# Skip rate (A→C)\n",
        "skip_rate = branch_cnt.get(\"ResNet152 (skipped B)\", 0) / total\n",
        "\n",
        "# Print summary\n",
        "print(\"\\n=== SUMMARY ===\")\n",
        "print(f\"Total images         : {total}\")\n",
        "print(f\"Accuracy             : {accuracy*100:.2f}%\")\n",
        "print(f\"Avg. time per input  : {avg_time*1000:.1f} ms\")\n",
        "print(f\"Skip rate (A→C)      : {skip_rate*100:.2f}%\\n\")\n",
        "\n",
        "# Breakdown by branch\n",
        "for branch, cnt in branch_cnt.items():\n",
        "    t = branch_sum[branch]\n",
        "    print(f\"  {branch:>20s} | Count: {cnt:5d} | Avg time: {t/cnt*1000:.1f} ms\")"
      ],
      "metadata": {
        "colab": {
          "base_uri": "https://localhost:8080/"
        },
        "collapsed": true,
        "id": "fZ_WQ3qshmk1",
        "outputId": "adadd0c3-1bce-4cdb-cce3-27dbfd9dabec"
      },
      "execution_count": 8,
      "outputs": [
        {
          "output_type": "stream",
          "name": "stdout",
          "text": [
            "[  500] Pred= 230  Used=ResNet152             Time=34.6ms\n",
            "[ 1000] Pred= 225  Used=ResNet34              Time=22.7ms\n",
            "[ 1500] Pred=  35  Used=ResNet18              Time=5.5ms\n",
            "[ 2000] Pred= 244  Used=ResNet18              Time=4.7ms\n",
            "[ 2500] Pred= 786  Used=ResNet18              Time=4.5ms\n",
            "[ 3000] Pred= 420  Used=ResNet18              Time=4.5ms\n",
            "[ 3500] Pred= 895  Used=ResNet18              Time=5.8ms\n",
            "[ 4000] Pred= 999  Used=ResNet34              Time=17.2ms\n",
            "[ 4500] Pred=  17  Used=ResNet18              Time=5.9ms\n",
            "[ 5000] Pred= 200  Used=ResNet152             Time=38.9ms\n",
            "[ 5500] Pred= 981  Used=ResNet34              Time=13.4ms\n",
            "[ 6000] Pred= 457  Used=ResNet18              Time=5.6ms\n",
            "[ 6500] Pred= 939  Used=ResNet152 (skipped B)  Time=30.0ms\n",
            "[ 7000] Pred= 710  Used=ResNet18              Time=4.7ms\n",
            "[ 7500] Pred= 977  Used=ResNet152             Time=36.0ms\n",
            "[ 8000] Pred= 914  Used=ResNet152             Time=38.1ms\n",
            "[ 8500] Pred= 760  Used=ResNet18              Time=4.1ms\n",
            "[ 9000] Pred= 685  Used=ResNet18              Time=5.1ms\n",
            "[ 9500] Pred= 930  Used=ResNet152 (skipped B)  Time=28.8ms\n",
            "[10000] Pred= 900  Used=ResNet152 (skipped B)  Time=28.5ms\n",
            "\n",
            "=== SUMMARY ===\n",
            "Total images         : 10000\n",
            "Accuracy             : 79.28%\n",
            "Avg. time per input  : 15.1 ms\n",
            "Skip rate (A→C)      : 10.20%\n",
            "\n",
            "  ResNet152 (skipped B) | Count:  1020 | Avg time: 33.9 ms\n",
            "              ResNet18 | Count:  6044 | Avg time: 5.6 ms\n",
            "              ResNet34 | Count:  1200 | Avg time: 13.5 ms\n",
            "             ResNet152 | Count:  1736 | Avg time: 38.1 ms\n"
          ]
        }
      ]
    }
  ]
}
