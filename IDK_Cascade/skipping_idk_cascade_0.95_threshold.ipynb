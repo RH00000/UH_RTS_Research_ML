{
  "nbformat": 4,
  "nbformat_minor": 0,
  "metadata": {
    "colab": {
      "provenance": [],
      "authorship_tag": "ABX9TyMXdJxmPU+hj+rZLR75vcgL",
      "include_colab_link": true
    },
    "kernelspec": {
      "name": "python3",
      "display_name": "Python 3"
    },
    "language_info": {
      "name": "python"
    }
  },
  "cells": [
    {
      "cell_type": "markdown",
      "metadata": {
        "id": "view-in-github",
        "colab_type": "text"
      },
      "source": [
        "<a href=\"https://colab.research.google.com/github/RH00000/UH_RTS_Research_ML/blob/main/skipping_idk_cascade_0.95_threshold.ipynb\" target=\"_parent\"><img src=\"https://colab.research.google.com/assets/colab-badge.svg\" alt=\"Open In Colab\"/></a>"
      ]
    },
    {
      "cell_type": "code",
      "source": [
        "!pip install torch torchvision tensorflow-datasets"
      ],
      "metadata": {
        "id": "ivrc2earSZrh",
        "collapsed": true
      },
      "execution_count": null,
      "outputs": []
    },
    {
      "cell_type": "code",
      "source": [
        "#Load the ImaageNetV2 TopImages split\n",
        "import tensorflow_datasets as tfds\n",
        "import torch\n",
        "from torch.utils.data import IterableDataset, DataLoader\n",
        "from torchvision import transforms\n",
        "from PIL import Image\n",
        "\n",
        "# 1) Download & prepare the TFDS builder for ImageNetV2 TopImages\n",
        "builder = tfds.builder(\"imagenet_v2\", config=\"topimages\")\n",
        "builder.download_and_prepare()"
      ],
      "metadata": {
        "colab": {
          "base_uri": "https://localhost:8080/",
          "height": 148,
          "referenced_widgets": [
            "ab4a18b0a3884896a824206e3cf29a45",
            "78b7903ecb2e451797c3d986041283ff",
            "8bb6a943413f4b03ac0cf39875954dca",
            "06657b62fa874dd9902e3ec3db2ba124",
            "0e4166630e70414dbb6ff11046644aa7",
            "5093b9c7614a441e8fe55c471ab2eee0",
            "258598b65813409bb820d82837f0a90f",
            "3a74425b8805464084ee3f6e04eed93e",
            "2959d707a69545a3b12b1d8c68d7a901",
            "39afd30811904d128fb916b5bcefe02b",
            "2f73455ff2eb4d62b5ba2a0f0bf050a8",
            "5ac5606a824e44ea94eee7a9bd849d96",
            "91dbd37372014366878d7961dd673c2c",
            "c0b70d956e3d4495b9a1aef6b683d16a",
            "1baf57e55c7443539582fbb08e81b5ba",
            "786cc1e2b6aa4ef7b92aa87b6f229e1d",
            "4858f192d59a469caf447be3aeb89adf",
            "6b71c507079c48a8a94e5b46aabba15f",
            "785b280f9cf34cd48d0e2b74599ca48b",
            "352963217ee84967b4b26dea8b566a3a",
            "00a35532c307411b859849cda7a795bd",
            "deaf1e86ba9147a3b662396bdb757397",
            "e17337c34a9443c08456d7cc19333e1f",
            "65fbbc9b023e4ad7bbcedc90dc4c822f",
            "578e852f28b840fbb3970106bda28843",
            "8c8d09e3d4a3455ea3738ad6ff004652",
            "48b186251d694b9ea138de01a2cf0420",
            "b2745343c1514c74986a0bd424145b64",
            "8ff65493f6814e2682b2fa3b1bba53fd",
            "268fdb099f58464188b98e4694ae2884",
            "7c66774d7b694fdc84e3fed88112dc6a",
            "c686590214dc457baec3c436a79221f2",
            "cf9ea91c952f437b88b40f3a3677c837",
            "d0d80d830da740b7b9aae3326cb0781d",
            "1ebd2dda33054458b660826829b0137a",
            "920b8fc98fdb4a578df16f6b1a609b00",
            "c95a35adf26142219e16d573bceea2d5",
            "902cd25a8c3943ab9e8d474cc1d7d9cb",
            "fce0a7cbd50f4291995b2fd7d33e6305",
            "e09fa93d710f447f8007e843131bc0d4",
            "60a11d19abc9467fbd9caf3ee3ebaa76",
            "1a49e4aba0904b86b6117cee152227e1",
            "51d07fda9e91489a90407af90ee947d4",
            "509f19f52ca444b3ad80a5eb573af67f",
            "5ed26219d9cc43ba86dfbe04c563b3f1",
            "d94da807aa004883abac648d6639b36d",
            "4a5615e3518442d58646e98492a42650",
            "e13c93676d384d5ca90f23b520d3c95e",
            "09cdbef7285a4a188a04665489f9368a",
            "7979ec09fd5c41058122f2447a4351be",
            "5e9244f094ea423eb8d14b617914d110",
            "f3219cd5dd584359aa3652fe5d947fbb",
            "8bfd55cf6a054dc583a8ac5e7f297493",
            "3700433233484345aafe3027afaca7c4",
            "15d417a3bd9e4d9bbf4a7f30a408b502",
            "f6a7ab74febc4b4b9548e87c51e1b7e7",
            "e5c7286cbce849c4a90e1a0f78be4bd2",
            "4bbf6340a32340f59ed5ed88dd783a3a",
            "9156dc89aa974190bf1ec754ec06ec2d",
            "1ed69252cca6477c925d3dff24d62d1b",
            "2174e7d416bc4cc48fabd95dfb900aa0",
            "9b661a27b8af47348c13e331a763107b",
            "1aa5c854f7874b0680b0fe2ad9bf9509",
            "75ac3a8f38d842a29dc72837dd224857",
            "8c0f8d8720da479db7f75442046a90eb",
            "c4df2dd196eb4bc49d07a9b06ab7b5ac"
          ]
        },
        "id": "GZ_6l-JgVxYU",
        "outputId": "e59c82ac-9434-4144-8269-91c229c29217"
      },
      "execution_count": 2,
      "outputs": [
        {
          "output_type": "stream",
          "name": "stdout",
          "text": [
            "Downloading and preparing dataset Unknown size (download: Unknown size, generated: Unknown size, total: Unknown size) to /root/tensorflow_datasets/imagenet_v2/topimages/3.0.0...\n"
          ]
        },
        {
          "output_type": "display_data",
          "data": {
            "text/plain": [
              "Dl Completed...: 0 url [00:00, ? url/s]"
            ],
            "application/vnd.jupyter.widget-view+json": {
              "version_major": 2,
              "version_minor": 0,
              "model_id": "ab4a18b0a3884896a824206e3cf29a45"
            }
          },
          "metadata": {}
        },
        {
          "output_type": "display_data",
          "data": {
            "text/plain": [
              "Dl Size...: 0 MiB [00:00, ? MiB/s]"
            ],
            "application/vnd.jupyter.widget-view+json": {
              "version_major": 2,
              "version_minor": 0,
              "model_id": "5ac5606a824e44ea94eee7a9bd849d96"
            }
          },
          "metadata": {}
        },
        {
          "output_type": "display_data",
          "data": {
            "text/plain": [
              "Extraction completed...: 0 file [00:00, ? file/s]"
            ],
            "application/vnd.jupyter.widget-view+json": {
              "version_major": 2,
              "version_minor": 0,
              "model_id": "e17337c34a9443c08456d7cc19333e1f"
            }
          },
          "metadata": {}
        },
        {
          "output_type": "display_data",
          "data": {
            "text/plain": [
              "Generating splits...:   0%|          | 0/1 [00:00<?, ? splits/s]"
            ],
            "application/vnd.jupyter.widget-view+json": {
              "version_major": 2,
              "version_minor": 0,
              "model_id": "d0d80d830da740b7b9aae3326cb0781d"
            }
          },
          "metadata": {}
        },
        {
          "output_type": "display_data",
          "data": {
            "text/plain": [
              "Generating test examples...: 0 examples [00:00, ? examples/s]"
            ],
            "application/vnd.jupyter.widget-view+json": {
              "version_major": 2,
              "version_minor": 0,
              "model_id": "5ed26219d9cc43ba86dfbe04c563b3f1"
            }
          },
          "metadata": {}
        },
        {
          "output_type": "display_data",
          "data": {
            "text/plain": [
              "Shuffling /root/tensorflow_datasets/imagenet_v2/topimages/incomplete.R0SHG3_3.0.0/imagenet_v2-test.tfrecord*..…"
            ],
            "application/vnd.jupyter.widget-view+json": {
              "version_major": 2,
              "version_minor": 0,
              "model_id": "f6a7ab74febc4b4b9548e87c51e1b7e7"
            }
          },
          "metadata": {}
        },
        {
          "output_type": "stream",
          "name": "stdout",
          "text": [
            "Dataset imagenet_v2 downloaded and prepared to /root/tensorflow_datasets/imagenet_v2/topimages/3.0.0. Subsequent calls will reuse this data.\n"
          ]
        }
      ]
    },
    {
      "cell_type": "code",
      "source": [
        "#2 Load the 'test' split (10000 images, top‑images variant)\n",
        "tfds_ds = builder.as_dataset(split=\"test\", as_supervised=True)"
      ],
      "metadata": {
        "id": "1YPI6jnCqKu5"
      },
      "execution_count": 3,
      "outputs": []
    },
    {
      "cell_type": "code",
      "source": [
        "#3 Define a tiny IterableDataset wrapper\n",
        "class ImageNetV2TopImages(IterableDataset):\n",
        "    def __init__(self, tfds_dataset, transform=None):\n",
        "        self.ds = tfds_dataset\n",
        "        self.transform = transform\n",
        "\n",
        "    def __iter__(self):\n",
        "        for img, label in tfds.as_numpy(self.ds):\n",
        "            # img: HWC uint8 array, label: int\n",
        "            pil = Image.fromarray(img)\n",
        "            if self.transform:\n",
        "                pil = self.transform(pil)\n",
        "            yield pil, label"
      ],
      "metadata": {
        "id": "2vJVZ3nPrH5f"
      },
      "execution_count": 4,
      "outputs": []
    },
    {
      "cell_type": "code",
      "source": [
        "#4 Torch transforms (same as ResNet expects)\n",
        "preprocess = transforms.Compose([\n",
        "    transforms.Resize(256),\n",
        "    transforms.CenterCrop(224),\n",
        "    transforms.ToTensor(),\n",
        "    transforms.Normalize([0.485,0.456,0.406],\n",
        "                         [0.229,0.224,0.225]),\n",
        "])"
      ],
      "metadata": {
        "id": "2zSfaVnnraYL"
      },
      "execution_count": 5,
      "outputs": []
    },
    {
      "cell_type": "code",
      "source": [
        "#5 Instantiate DataLoader\n",
        "dataset = ImageNetV2TopImages(tfds_ds, transform=preprocess)\n",
        "loader  = DataLoader(dataset, batch_size=1, num_workers=4)"
      ],
      "metadata": {
        "colab": {
          "base_uri": "https://localhost:8080/"
        },
        "id": "UntGOOH3rdNt",
        "outputId": "d61223a4-45a3-45f1-8de0-0cb5058d8854"
      },
      "execution_count": 6,
      "outputs": [
        {
          "output_type": "stream",
          "name": "stderr",
          "text": [
            "/usr/local/lib/python3.11/dist-packages/torch/utils/data/dataloader.py:624: UserWarning: This DataLoader will create 4 worker processes in total. Our suggested max number of worker in current system is 2, which is smaller than what this DataLoader is going to create. Please be aware that excessive worker creation might get DataLoader running slow or even freeze, lower the worker number to avoid potential slowness/freeze if necessary.\n",
            "  warnings.warn(\n"
          ]
        }
      ]
    },
    {
      "cell_type": "code",
      "source": [
        "#Define models and cascade logic\n",
        "import time\n",
        "import torch.nn.functional as F\n",
        "from torchvision import models\n",
        "\n",
        "device = torch.device(\"cuda\" if torch.cuda.is_available() else \"cpu\")\n",
        "\n",
        "# Load pretrained ResNets\n",
        "resnet18  = models.resnet18(pretrained=True).to(device).eval()    #model A\n",
        "resnet34  = models.resnet34(pretrained=True).to(device).eval()    #model B\n",
        "resnet152 = models.resnet152(pretrained=True).to(device).eval()   #model C\n",
        "\n",
        "# Thresholds\n",
        "SKIP_THRESH = 0.3   # if ResNet18 conf < 0.3, skip ResNet34\n",
        "THR_A = 0.95 # IDK threshold for model A\n",
        "THR_B = 0.95 # IDK thresholds for model B\n",
        "\n",
        "def predict(model, x):\n",
        "    logits = model(x)\n",
        "    probs  = F.softmax(logits, dim=1)\n",
        "    conf, cls = torch.max(probs, dim=1)\n",
        "    return cls.item(), conf.item()\n",
        "\n",
        "def get_prediction(model, x, thr=None):\n",
        "    cls, conf = predict(model, x)\n",
        "    if thr is not None and conf < thr:\n",
        "        return \"IDK\", conf\n",
        "    return cls, conf\n",
        "\n",
        "def dynamic_idk_cascade(x):\n",
        "    # A: ResNet18\n",
        "    cls_a, conf_a = get_prediction(resnet18, x, THR_A)\n",
        "    if cls_a != \"IDK\":\n",
        "        return cls_a, conf_a, \"ResNet18\"\n",
        "    # Skip logic\n",
        "    if conf_a < SKIP_THRESH:\n",
        "        cls_c, conf_c = predict(resnet152, x)\n",
        "        return cls_c, conf_c, \"ResNet152 (skipped B)\"\n",
        "    # B: ResNet34\n",
        "    cls_b, conf_b = get_prediction(resnet34, x, THR_B)\n",
        "    if cls_b != \"IDK\":\n",
        "        return cls_b, conf_b, \"ResNet34\"\n",
        "    # C: ResNet152\n",
        "    cls_c, conf_c = predict(resnet152, x)\n",
        "    return cls_c, conf_c, \"ResNet152\""
      ],
      "metadata": {
        "id": "5EcBCL8JsT9G",
        "collapsed": true
      },
      "execution_count": 9,
      "outputs": []
    },
    {
      "cell_type": "code",
      "source": [
        "from collections import Counter\n",
        "import time\n",
        "\n",
        "# Prepare counters\n",
        "branch_sum = Counter()\n",
        "branch_cnt = Counter()\n",
        "\n",
        "# RUN & EVALUATE\n",
        "MAX_IMAGES = 10000\n",
        "total      = 0\n",
        "correct    = 0\n",
        "sum_time   = 0.0\n",
        "\n",
        "for imgs, labels in loader:\n",
        "    total += 1\n",
        "    imgs, labels = imgs.to(device), labels.to(device)\n",
        "\n",
        "    start = time.time()\n",
        "    pred, conf, branch = dynamic_idk_cascade(imgs)\n",
        "    elapsed = time.time() - start\n",
        "\n",
        "    # Update overall stats\n",
        "    correct += (pred == labels.item())\n",
        "    sum_time += elapsed\n",
        "\n",
        "    # Update branch‑specific stats\n",
        "    branch_sum[branch] += elapsed\n",
        "    branch_cnt[branch] += 1\n",
        "\n",
        "    # Light logging\n",
        "    if total % 500 == 0:\n",
        "        print(f\"[{total:5d}] Pred={pred:4d}  Used={branch:<20s}  Time={elapsed*1000:.1f}ms\")\n",
        "\n",
        "    if total >= MAX_IMAGES:\n",
        "        break\n",
        "\n",
        "# Core metrics\n",
        "accuracy  = correct / total\n",
        "avg_time  = sum_time / total          # seconds per image\n",
        "\n",
        "# Skip rate (A→C)\n",
        "skip_rate = branch_cnt.get(\"ResNet152 (skipped B)\", 0) / total\n",
        "\n",
        "# Print summary\n",
        "print(\"\\n=== SUMMARY ===\")\n",
        "print(f\"Total images         : {total}\")\n",
        "print(f\"Accuracy             : {accuracy*100:.2f}%\")\n",
        "print(f\"Avg. time per input  : {avg_time*1000:.1f} ms\")\n",
        "print(f\"Skip rate (A→C)      : {skip_rate*100:.2f}%\\n\")\n",
        "\n",
        "# Breakdown by branch\n",
        "for branch, cnt in branch_cnt.items():\n",
        "    t = branch_sum[branch]\n",
        "    print(f\"  {branch:>20s} | Count: {cnt:5d} | Avg time: {t/cnt*1000:.1f} ms\")"
      ],
      "metadata": {
        "colab": {
          "base_uri": "https://localhost:8080/"
        },
        "collapsed": true,
        "id": "fZ_WQ3qshmk1",
        "outputId": "95369bf5-0bcd-4be1-e9e0-973561f3c877"
      },
      "execution_count": 10,
      "outputs": [
        {
          "output_type": "stream",
          "name": "stdout",
          "text": [
            "[  500] Pred= 230  Used=ResNet152             Time=663.1ms\n",
            "[ 1000] Pred= 225  Used=ResNet34              Time=223.0ms\n",
            "[ 1500] Pred=  35  Used=ResNet152             Time=1039.7ms\n",
            "[ 2000] Pred= 244  Used=ResNet18              Time=83.6ms\n",
            "[ 2500] Pred= 763  Used=ResNet152             Time=645.1ms\n",
            "[ 3000] Pred= 420  Used=ResNet18              Time=82.3ms\n",
            "[ 3500] Pred= 404  Used=ResNet152             Time=665.7ms\n",
            "[ 4000] Pred= 700  Used=ResNet152             Time=668.0ms\n",
            "[ 4500] Pred=  17  Used=ResNet18              Time=83.8ms\n",
            "[ 5000] Pred= 200  Used=ResNet152             Time=649.5ms\n",
            "[ 5500] Pred= 429  Used=ResNet152             Time=664.6ms\n",
            "[ 6000] Pred= 457  Used=ResNet18              Time=81.7ms\n",
            "[ 6500] Pred= 939  Used=ResNet152 (skipped B)  Time=506.8ms\n",
            "[ 7000] Pred= 710  Used=ResNet152             Time=664.7ms\n",
            "[ 7500] Pred= 977  Used=ResNet152             Time=657.3ms\n",
            "[ 8000] Pred= 914  Used=ResNet152             Time=658.6ms\n",
            "[ 8500] Pred= 760  Used=ResNet152             Time=660.7ms\n",
            "[ 9000] Pred= 685  Used=ResNet18              Time=94.1ms\n",
            "[ 9500] Pred= 930  Used=ResNet152 (skipped B)  Time=505.9ms\n",
            "[10000] Pred= 900  Used=ResNet152 (skipped B)  Time=505.3ms\n",
            "\n",
            "=== SUMMARY ===\n",
            "Total images         : 10000\n",
            "Accuracy             : 80.00%\n",
            "Avg. time per input  : 430.0 ms\n",
            "Skip rate (A→C)      : 10.20%\n",
            "\n",
            "  ResNet152 (skipped B) | Count:  1020 | Avg time: 562.9 ms\n",
            "             ResNet152 | Count:  4420 | Avg time: 711.9 ms\n",
            "              ResNet18 | Count:  3464 | Avg time: 89.8 ms\n",
            "              ResNet34 | Count:  1096 | Avg time: 244.8 ms\n"
          ]
        }
      ]
    }
  ]
}
