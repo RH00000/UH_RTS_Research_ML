{
  "nbformat": 4,
  "nbformat_minor": 0,
  "metadata": {
    "colab": {
      "provenance": [],
      "authorship_tag": "ABX9TyMtVzxebtSCDbOpd3UoEzQr",
      "include_colab_link": true
    },
    "kernelspec": {
      "name": "python3",
      "display_name": "Python 3"
    },
    "language_info": {
      "name": "python"
    }
  },
  "cells": [
    {
      "cell_type": "markdown",
      "metadata": {
        "id": "view-in-github",
        "colab_type": "text"
      },
      "source": [
        "<a href=\"https://colab.research.google.com/github/RH00000/UH_RTS_Research_ML/blob/main/abcd_cascade_simulation_gridsearch.ipynb\" target=\"_parent\"><img src=\"https://colab.research.google.com/assets/colab-badge.svg\" alt=\"Open In Colab\"/></a>"
      ]
    },
    {
      "cell_type": "code",
      "execution_count": 1,
      "metadata": {
        "colab": {
          "base_uri": "https://localhost:8080/",
          "height": 73
        },
        "id": "9WZq1eIst9LU",
        "outputId": "79e5641f-ab88-4e00-8f6c-9c51b509cee1"
      },
      "outputs": [
        {
          "output_type": "display_data",
          "data": {
            "text/plain": [
              "<IPython.core.display.HTML object>"
            ],
            "text/html": [
              "\n",
              "     <input type=\"file\" id=\"files-80b44ce3-a13c-4460-8899-b256be29e0a5\" name=\"files[]\" multiple disabled\n",
              "        style=\"border:none\" />\n",
              "     <output id=\"result-80b44ce3-a13c-4460-8899-b256be29e0a5\">\n",
              "      Upload widget is only available when the cell has been executed in the\n",
              "      current browser session. Please rerun this cell to enable.\n",
              "      </output>\n",
              "      <script>// Copyright 2017 Google LLC\n",
              "//\n",
              "// Licensed under the Apache License, Version 2.0 (the \"License\");\n",
              "// you may not use this file except in compliance with the License.\n",
              "// You may obtain a copy of the License at\n",
              "//\n",
              "//      http://www.apache.org/licenses/LICENSE-2.0\n",
              "//\n",
              "// Unless required by applicable law or agreed to in writing, software\n",
              "// distributed under the License is distributed on an \"AS IS\" BASIS,\n",
              "// WITHOUT WARRANTIES OR CONDITIONS OF ANY KIND, either express or implied.\n",
              "// See the License for the specific language governing permissions and\n",
              "// limitations under the License.\n",
              "\n",
              "/**\n",
              " * @fileoverview Helpers for google.colab Python module.\n",
              " */\n",
              "(function(scope) {\n",
              "function span(text, styleAttributes = {}) {\n",
              "  const element = document.createElement('span');\n",
              "  element.textContent = text;\n",
              "  for (const key of Object.keys(styleAttributes)) {\n",
              "    element.style[key] = styleAttributes[key];\n",
              "  }\n",
              "  return element;\n",
              "}\n",
              "\n",
              "// Max number of bytes which will be uploaded at a time.\n",
              "const MAX_PAYLOAD_SIZE = 100 * 1024;\n",
              "\n",
              "function _uploadFiles(inputId, outputId) {\n",
              "  const steps = uploadFilesStep(inputId, outputId);\n",
              "  const outputElement = document.getElementById(outputId);\n",
              "  // Cache steps on the outputElement to make it available for the next call\n",
              "  // to uploadFilesContinue from Python.\n",
              "  outputElement.steps = steps;\n",
              "\n",
              "  return _uploadFilesContinue(outputId);\n",
              "}\n",
              "\n",
              "// This is roughly an async generator (not supported in the browser yet),\n",
              "// where there are multiple asynchronous steps and the Python side is going\n",
              "// to poll for completion of each step.\n",
              "// This uses a Promise to block the python side on completion of each step,\n",
              "// then passes the result of the previous step as the input to the next step.\n",
              "function _uploadFilesContinue(outputId) {\n",
              "  const outputElement = document.getElementById(outputId);\n",
              "  const steps = outputElement.steps;\n",
              "\n",
              "  const next = steps.next(outputElement.lastPromiseValue);\n",
              "  return Promise.resolve(next.value.promise).then((value) => {\n",
              "    // Cache the last promise value to make it available to the next\n",
              "    // step of the generator.\n",
              "    outputElement.lastPromiseValue = value;\n",
              "    return next.value.response;\n",
              "  });\n",
              "}\n",
              "\n",
              "/**\n",
              " * Generator function which is called between each async step of the upload\n",
              " * process.\n",
              " * @param {string} inputId Element ID of the input file picker element.\n",
              " * @param {string} outputId Element ID of the output display.\n",
              " * @return {!Iterable<!Object>} Iterable of next steps.\n",
              " */\n",
              "function* uploadFilesStep(inputId, outputId) {\n",
              "  const inputElement = document.getElementById(inputId);\n",
              "  inputElement.disabled = false;\n",
              "\n",
              "  const outputElement = document.getElementById(outputId);\n",
              "  outputElement.innerHTML = '';\n",
              "\n",
              "  const pickedPromise = new Promise((resolve) => {\n",
              "    inputElement.addEventListener('change', (e) => {\n",
              "      resolve(e.target.files);\n",
              "    });\n",
              "  });\n",
              "\n",
              "  const cancel = document.createElement('button');\n",
              "  inputElement.parentElement.appendChild(cancel);\n",
              "  cancel.textContent = 'Cancel upload';\n",
              "  const cancelPromise = new Promise((resolve) => {\n",
              "    cancel.onclick = () => {\n",
              "      resolve(null);\n",
              "    };\n",
              "  });\n",
              "\n",
              "  // Wait for the user to pick the files.\n",
              "  const files = yield {\n",
              "    promise: Promise.race([pickedPromise, cancelPromise]),\n",
              "    response: {\n",
              "      action: 'starting',\n",
              "    }\n",
              "  };\n",
              "\n",
              "  cancel.remove();\n",
              "\n",
              "  // Disable the input element since further picks are not allowed.\n",
              "  inputElement.disabled = true;\n",
              "\n",
              "  if (!files) {\n",
              "    return {\n",
              "      response: {\n",
              "        action: 'complete',\n",
              "      }\n",
              "    };\n",
              "  }\n",
              "\n",
              "  for (const file of files) {\n",
              "    const li = document.createElement('li');\n",
              "    li.append(span(file.name, {fontWeight: 'bold'}));\n",
              "    li.append(span(\n",
              "        `(${file.type || 'n/a'}) - ${file.size} bytes, ` +\n",
              "        `last modified: ${\n",
              "            file.lastModifiedDate ? file.lastModifiedDate.toLocaleDateString() :\n",
              "                                    'n/a'} - `));\n",
              "    const percent = span('0% done');\n",
              "    li.appendChild(percent);\n",
              "\n",
              "    outputElement.appendChild(li);\n",
              "\n",
              "    const fileDataPromise = new Promise((resolve) => {\n",
              "      const reader = new FileReader();\n",
              "      reader.onload = (e) => {\n",
              "        resolve(e.target.result);\n",
              "      };\n",
              "      reader.readAsArrayBuffer(file);\n",
              "    });\n",
              "    // Wait for the data to be ready.\n",
              "    let fileData = yield {\n",
              "      promise: fileDataPromise,\n",
              "      response: {\n",
              "        action: 'continue',\n",
              "      }\n",
              "    };\n",
              "\n",
              "    // Use a chunked sending to avoid message size limits. See b/62115660.\n",
              "    let position = 0;\n",
              "    do {\n",
              "      const length = Math.min(fileData.byteLength - position, MAX_PAYLOAD_SIZE);\n",
              "      const chunk = new Uint8Array(fileData, position, length);\n",
              "      position += length;\n",
              "\n",
              "      const base64 = btoa(String.fromCharCode.apply(null, chunk));\n",
              "      yield {\n",
              "        response: {\n",
              "          action: 'append',\n",
              "          file: file.name,\n",
              "          data: base64,\n",
              "        },\n",
              "      };\n",
              "\n",
              "      let percentDone = fileData.byteLength === 0 ?\n",
              "          100 :\n",
              "          Math.round((position / fileData.byteLength) * 100);\n",
              "      percent.textContent = `${percentDone}% done`;\n",
              "\n",
              "    } while (position < fileData.byteLength);\n",
              "  }\n",
              "\n",
              "  // All done.\n",
              "  yield {\n",
              "    response: {\n",
              "      action: 'complete',\n",
              "    }\n",
              "  };\n",
              "}\n",
              "\n",
              "scope.google = scope.google || {};\n",
              "scope.google.colab = scope.google.colab || {};\n",
              "scope.google.colab._files = {\n",
              "  _uploadFiles,\n",
              "  _uploadFilesContinue,\n",
              "};\n",
              "})(self);\n",
              "</script> "
            ]
          },
          "metadata": {}
        },
        {
          "output_type": "stream",
          "name": "stdout",
          "text": [
            "Saving abcd_profiling_validation_stats.npz to abcd_profiling_validation_stats.npz\n"
          ]
        }
      ],
      "source": [
        "# Upload the profiling NPZ file from your local machine (Colab)\n",
        "from google.colab import files\n",
        "uploaded = files.upload()"
      ]
    },
    {
      "cell_type": "code",
      "source": [
        "# 1: Load profiling data\n",
        "import numpy as np\n",
        "import pandas as pd\n",
        "\n",
        "data = np.load('abcd_profiling_validation_stats.npz')  # uses the uploaded file\n",
        "confs = data['confs']    # shape (N,4)\n",
        "times = data['times']    # shape (N,4)\n",
        "oks   = data['oks']      # shape (N,4), bool\n",
        "N, M = confs.shape       # N samples, M=4 models (A,B,C,D)"
      ],
      "metadata": {
        "id": "b1FdecyeuEJ2"
      },
      "execution_count": 3,
      "outputs": []
    },
    {
      "cell_type": "code",
      "source": [
        "# 2: Simulation function\n",
        "def simulate_cascade(confs, times, oks,\n",
        "                     thr_a, thr_b, thr_c,\n",
        "                     skip_b_thresh, skip_c_thresh):\n",
        "    total_time = 0.0\n",
        "    correct = 0\n",
        "    skip_c_count = 0\n",
        "    skip_bc_count = 0\n",
        "\n",
        "    for j in range(N):\n",
        "        # Model A\n",
        "        conf_a = confs[j,0]; time_a = times[j,0]; ok_a = oks[j,0]\n",
        "        if conf_a >= thr_a:\n",
        "            total_time += time_a\n",
        "            correct += ok_a\n",
        "            continue\n",
        "\n",
        "        # Decide skip B\n",
        "        skip_b = (conf_a < skip_b_thresh)\n",
        "        if not skip_b:\n",
        "            total_time += times[j,1]              # run B\n",
        "            if confs[j,1] >= thr_b:\n",
        "                correct += oks[j,1]\n",
        "                continue\n",
        "\n",
        "        # Decide skip C\n",
        "        conf_b = confs[j,1] if not skip_b else 0.0\n",
        "        skip_c = skip_b or (conf_b < skip_c_thresh)\n",
        "        if skip_c and not skip_b:\n",
        "            skip_c_count += 1\n",
        "        if skip_b and skip_c:\n",
        "            skip_bc_count += 1\n",
        "\n",
        "        if not skip_c:\n",
        "            total_time += times[j,2]              # run C\n",
        "            if confs[j,2] >= thr_c:\n",
        "                correct += oks[j,2]\n",
        "                continue\n",
        "\n",
        "        # Fallback D\n",
        "        total_time += times[j,3]\n",
        "        correct += oks[j,3]\n",
        "\n",
        "    avg_time = total_time / N\n",
        "    accuracy = correct / N\n",
        "    skip_c_rate = skip_c_count / N\n",
        "    skip_bc_rate = skip_bc_count / N\n",
        "    return accuracy, avg_time, skip_c_rate, skip_bc_rate"
      ],
      "metadata": {
        "id": "in-FgQxqufWg"
      },
      "execution_count": 4,
      "outputs": []
    },
    {
      "cell_type": "code",
      "source": [
        "# 3: Define grid of thresholds to search\n",
        "# np.linspace(start, end, num) generates 'num' evenly spaced values from start to end (inclusive).\n",
        "# For example, np.linspace(0.5, 0.9, 5) produces [0.5, 0.6, 0.7, 0.8, 0.9].\n",
        "# Step 3: Define grid of thresholds to search\n",
        "# Use np.arange(start, stop, step) to generate values with a specific increment.\n",
        "thr_as  = np.arange(0.50, 0.951, 0.05)    # A's IDK thresholds: [0.50,0.55,...,0.95]\n",
        "thr_bs  = np.arange(0.50, 0.951, 0.05)    # B's IDK thresholds\n",
        "thr_cs  = np.arange(0.50, 0.951, 0.05)    # C's IDK thresholds\n",
        "# Skip thresholds\n",
        "skip_bs = np.linspace(0.1, 0.5, 5)       # skip B when A is low: [0.1,0.2,0.3,0.4,0.5]\n",
        "skip_cs = np.linspace(0.1, 0.5, 5)       # skip C when B is low"
      ],
      "metadata": {
        "id": "lUtByGJivYRs"
      },
      "execution_count": 13,
      "outputs": []
    },
    {
      "cell_type": "code",
      "source": [
        "# 4: Grid search over all combinations\n",
        "records = []\n",
        "total_iters = len(thr_as)*len(thr_bs)*len(thr_cs)*len(skip_bs)*len(skip_cs)\n",
        "iter_count = 0\n",
        "for thr_a in thr_as:\n",
        "    for thr_b in thr_bs:\n",
        "        for thr_c in thr_cs:\n",
        "            for skip_b in skip_bs:\n",
        "                for skip_c in skip_cs:\n",
        "                    acc, t, r_c, r_bc = simulate_cascade(\n",
        "                        confs, times, oks,\n",
        "                        thr_a, thr_b, thr_c,\n",
        "                        skip_b, skip_c)\n",
        "                    records.append({\n",
        "                        'thr_a': thr_a, 'thr_b': thr_b, 'thr_c': thr_c,\n",
        "                        'skip_b': skip_b, 'skip_c': skip_c,\n",
        "                        'accuracy': acc, 'avg_time': t,\n",
        "                        'skip_C→D_rate': r_c, 'skip_B,C→D_rate': r_bc\n",
        "                    })\n",
        "                    # Light logging every 500 simulations\n",
        "                    iter_count += 1\n",
        "                    if iter_count % 500 == 0:\n",
        "                        print(f\"Completed {iter_count}/{total_iters} grid points\")"
      ],
      "metadata": {
        "colab": {
          "base_uri": "https://localhost:8080/"
        },
        "collapsed": true,
        "id": "HsawYYIzvn1c",
        "outputId": "9063b9ae-913b-444c-a37d-f0a18b7431fb"
      },
      "execution_count": 14,
      "outputs": [
        {
          "output_type": "stream",
          "name": "stdout",
          "text": [
            "Completed 500/25000 grid points\n",
            "Completed 1000/25000 grid points\n",
            "Completed 1500/25000 grid points\n",
            "Completed 2000/25000 grid points\n",
            "Completed 2500/25000 grid points\n",
            "Completed 3000/25000 grid points\n",
            "Completed 3500/25000 grid points\n",
            "Completed 4000/25000 grid points\n",
            "Completed 4500/25000 grid points\n",
            "Completed 5000/25000 grid points\n",
            "Completed 5500/25000 grid points\n",
            "Completed 6000/25000 grid points\n",
            "Completed 6500/25000 grid points\n",
            "Completed 7000/25000 grid points\n",
            "Completed 7500/25000 grid points\n",
            "Completed 8000/25000 grid points\n",
            "Completed 8500/25000 grid points\n",
            "Completed 9000/25000 grid points\n",
            "Completed 9500/25000 grid points\n",
            "Completed 10000/25000 grid points\n",
            "Completed 10500/25000 grid points\n",
            "Completed 11000/25000 grid points\n",
            "Completed 11500/25000 grid points\n",
            "Completed 12000/25000 grid points\n",
            "Completed 12500/25000 grid points\n",
            "Completed 13000/25000 grid points\n",
            "Completed 13500/25000 grid points\n",
            "Completed 14000/25000 grid points\n",
            "Completed 14500/25000 grid points\n",
            "Completed 15000/25000 grid points\n",
            "Completed 15500/25000 grid points\n",
            "Completed 16000/25000 grid points\n",
            "Completed 16500/25000 grid points\n",
            "Completed 17000/25000 grid points\n",
            "Completed 17500/25000 grid points\n",
            "Completed 18000/25000 grid points\n",
            "Completed 18500/25000 grid points\n",
            "Completed 19000/25000 grid points\n",
            "Completed 19500/25000 grid points\n",
            "Completed 20000/25000 grid points\n",
            "Completed 20500/25000 grid points\n",
            "Completed 21000/25000 grid points\n",
            "Completed 21500/25000 grid points\n",
            "Completed 22000/25000 grid points\n",
            "Completed 22500/25000 grid points\n",
            "Completed 23000/25000 grid points\n",
            "Completed 23500/25000 grid points\n",
            "Completed 24000/25000 grid points\n",
            "Completed 24500/25000 grid points\n",
            "Completed 25000/25000 grid points\n"
          ]
        }
      ]
    },
    {
      "cell_type": "code",
      "source": [
        "# 5: Analyze results\n",
        "# Convert to DataFrame for easy sorting/filtering\n",
        "df = pd.DataFrame(records)\n",
        "# For example: show top 10 fastest under a target_accuracy% accuracy constraint\n",
        "target_accuracy = 0.79\n",
        "best = df[df['accuracy'] >= target_accuracy].sort_values('avg_time').head(10)\n",
        "print(best)"
      ],
      "metadata": {
        "colab": {
          "base_uri": "https://localhost:8080/"
        },
        "id": "Pf8qEwWIvtlO",
        "outputId": "3a6b8ab9-16cb-41f4-8fc0-f432203968ea"
      },
      "execution_count": 16,
      "outputs": [
        {
          "output_type": "stream",
          "name": "stdout",
          "text": [
            "       thr_a  thr_b  thr_c  skip_b  skip_c  accuracy  avg_time  skip_C→D_rate  \\\n",
            "10043    0.7    0.5   0.55     0.4     0.4    0.7900  0.009059         0.0300   \n",
            "10040    0.7    0.5   0.55     0.4     0.1    0.7900  0.009080         0.0000   \n",
            "10041    0.7    0.5   0.55     0.4     0.2    0.7900  0.009080         0.0036   \n",
            "10042    0.7    0.5   0.55     0.4     0.3    0.7900  0.009082         0.0132   \n",
            "10068    0.7    0.5   0.60     0.4     0.4    0.7904  0.009083         0.0300   \n",
            "10093    0.7    0.5   0.65     0.4     0.4    0.7904  0.009100         0.0300   \n",
            "10119    0.7    0.5   0.70     0.4     0.5    0.7916  0.009115         0.0544   \n",
            "10019    0.7    0.5   0.50     0.4     0.5    0.7916  0.009115         0.0544   \n",
            "10069    0.7    0.5   0.60     0.4     0.5    0.7916  0.009115         0.0544   \n",
            "10144    0.7    0.5   0.75     0.4     0.5    0.7916  0.009115         0.0544   \n",
            "\n",
            "       skip_B,C→D_rate  \n",
            "10043           0.1732  \n",
            "10040           0.1732  \n",
            "10041           0.1732  \n",
            "10042           0.1732  \n",
            "10068           0.1732  \n",
            "10093           0.1732  \n",
            "10119           0.1732  \n",
            "10019           0.1732  \n",
            "10069           0.1732  \n",
            "10144           0.1732  \n"
          ]
        }
      ]
    },
    {
      "cell_type": "code",
      "source": [
        "# Save full results to CSV\n",
        "df.to_csv('abcd_cascade_grid_search.csv', index=False)\n",
        "print(\"Saved full grid results to 'cascade_grid_search.csv'\")"
      ],
      "metadata": {
        "colab": {
          "base_uri": "https://localhost:8080/"
        },
        "id": "HI6fqmp1xX0h",
        "outputId": "bd716b41-d656-41fb-b90f-2339812f7bfa"
      },
      "execution_count": 17,
      "outputs": [
        {
          "output_type": "stream",
          "name": "stdout",
          "text": [
            "Saved full grid results to 'cascade_grid_search.csv'\n"
          ]
        }
      ]
    },
    {
      "cell_type": "code",
      "source": [
        "# # Download CSV to local machine (in Colab)\n",
        "# from google.colab import files\n",
        "# files.download('abcd_cascade_grid_search.csv')"
      ],
      "metadata": {
        "colab": {
          "base_uri": "https://localhost:8080/",
          "height": 17
        },
        "id": "8p3VmN_N2Cwa",
        "outputId": "1b0a673f-832b-4b25-bb18-1d7ca66b4c32"
      },
      "execution_count": 19,
      "outputs": [
        {
          "output_type": "display_data",
          "data": {
            "text/plain": [
              "<IPython.core.display.Javascript object>"
            ],
            "application/javascript": [
              "\n",
              "    async function download(id, filename, size) {\n",
              "      if (!google.colab.kernel.accessAllowed) {\n",
              "        return;\n",
              "      }\n",
              "      const div = document.createElement('div');\n",
              "      const label = document.createElement('label');\n",
              "      label.textContent = `Downloading \"${filename}\": `;\n",
              "      div.appendChild(label);\n",
              "      const progress = document.createElement('progress');\n",
              "      progress.max = size;\n",
              "      div.appendChild(progress);\n",
              "      document.body.appendChild(div);\n",
              "\n",
              "      const buffers = [];\n",
              "      let downloaded = 0;\n",
              "\n",
              "      const channel = await google.colab.kernel.comms.open(id);\n",
              "      // Send a message to notify the kernel that we're ready.\n",
              "      channel.send({})\n",
              "\n",
              "      for await (const message of channel.messages) {\n",
              "        // Send a message to notify the kernel that we're ready.\n",
              "        channel.send({})\n",
              "        if (message.buffers) {\n",
              "          for (const buffer of message.buffers) {\n",
              "            buffers.push(buffer);\n",
              "            downloaded += buffer.byteLength;\n",
              "            progress.value = downloaded;\n",
              "          }\n",
              "        }\n",
              "      }\n",
              "      const blob = new Blob(buffers, {type: 'application/binary'});\n",
              "      const a = document.createElement('a');\n",
              "      a.href = window.URL.createObjectURL(blob);\n",
              "      a.download = filename;\n",
              "      div.appendChild(a);\n",
              "      a.click();\n",
              "      div.remove();\n",
              "    }\n",
              "  "
            ]
          },
          "metadata": {}
        },
        {
          "output_type": "display_data",
          "data": {
            "text/plain": [
              "<IPython.core.display.Javascript object>"
            ],
            "application/javascript": [
              "download(\"download_4f93d178-f924-489c-a495-31e8209f105a\", \"abcd_cascade_grid_search.csv\", 2364002)"
            ]
          },
          "metadata": {}
        }
      ]
    },
    {
      "cell_type": "code",
      "source": [],
      "metadata": {
        "id": "T-hM_u4T2JSu"
      },
      "execution_count": null,
      "outputs": []
    }
  ]
}
