{
  "nbformat": 4,
  "nbformat_minor": 0,
  "metadata": {
    "colab": {
      "provenance": [],
      "gpuType": "T4",
      "authorship_tag": "ABX9TyOxBEmk2z/c9hdvQyuLqhMQ",
      "include_colab_link": true
    },
    "kernelspec": {
      "name": "python3",
      "display_name": "Python 3"
    },
    "language_info": {
      "name": "python"
    },
    "accelerator": "GPU"
  },
  "cells": [
    {
      "cell_type": "markdown",
      "metadata": {
        "id": "view-in-github",
        "colab_type": "text"
      },
      "source": [
        "<a href=\"https://colab.research.google.com/github/RH00000/UH_RTS_Research_ML/blob/main/non_skipping_0.85confidence_t4GPU.ipynb\" target=\"_parent\"><img src=\"https://colab.research.google.com/assets/colab-badge.svg\" alt=\"Open In Colab\"/></a>"
      ]
    },
    {
      "cell_type": "code",
      "source": [
        "!pip install torch torchvision tensorflow-datasets"
      ],
      "metadata": {
        "id": "ivrc2earSZrh",
        "collapsed": true
      },
      "execution_count": null,
      "outputs": []
    },
    {
      "cell_type": "code",
      "source": [
        "#Load the ImaageNetV2 TopImages split\n",
        "import tensorflow_datasets as tfds\n",
        "import torch\n",
        "from torch.utils.data import IterableDataset, DataLoader\n",
        "from torchvision import transforms\n",
        "from PIL import Image\n",
        "\n",
        "# 1) Download & prepare the TFDS builder for ImageNetV2 TopImages\n",
        "builder = tfds.builder(\"imagenet_v2\", config=\"topimages\")\n",
        "builder.download_and_prepare()"
      ],
      "metadata": {
        "colab": {
          "base_uri": "https://localhost:8080/",
          "height": 148,
          "referenced_widgets": [
            "33a6b36194ab42408519976a4359214a",
            "5f24be9a956a4de7a9d0eee3e49a6f3b",
            "3a1cf3eaf935443783ad2551a97fc843",
            "655fbb2054494ec9bdbebcdec4869d69",
            "3158e5bde4174629be9583a320e04866",
            "82f80ea1f46e4979ae9814db0ab135cb",
            "9653266ab138428e89f477d172d5e103",
            "b31e4156edf54abb85a51624427c8478",
            "e53053bec7f744a2a9a5defece565ee8",
            "fdd4dda9c7d84514b3328def01447078",
            "50c2b80d0a4440669357810dde4e6341",
            "4e47081f94ba4bc58a44ca1eb60161bb",
            "fcc0476c6c264d60bddece57fdd1cf51",
            "ad7a0e81bd9d47b48b407dd297d49da7",
            "16b5030943324b4e9d7f99583ee43018",
            "1c3ed77d748b49978344147818c9dd8e",
            "cfc830a0bd50493396911cb1a67f24e5",
            "1ba603b92c844ac7b4c30aaf6d6efebf",
            "dbfd19123a1d4e07aad0eb78ecac4a6a",
            "e842997ffa204aaf89594382d7ecb210",
            "1d666abfa8d148e8a2106998e64bc809",
            "f935815cdbbd4d2f8b097cc44c1a218d",
            "2d402786bd3d42ed945ac4fe715f9ead",
            "b3a2824d66574546a45472ac35075dc8",
            "e98cb3afa2844db198e77d298cf34572",
            "89a33196deed4a658e0e6f33b1e45a3a",
            "355851e5d7624117b05f974599ab4f46",
            "976d1dbda16747b9806076a47ea630d7",
            "2ff75d6691ac47f0b9abe6a93f09d1bd",
            "ccdb58b34e7c4dcb9a48ce2fe4871289",
            "5b650d2e324e47b482d999c985ee662d",
            "2ea1cfce85c14ce18d613c1f08f12dc9",
            "698237792c354d01a40244cd8d300803",
            "c2f9d24b8aa3479ebd1afdbda9113ba5",
            "5bcbb23603e64ac7abeee57dee792dbf",
            "c74c868f8cda484a8ac68cdd6f88141b",
            "8f8184c309954b58b85b0cb3ad648915",
            "2785e7075a9645fda290c5185914ccb4",
            "9890d931bee545a9a03d48e2e831180d",
            "c3af00264010487aa0376ec858178f6c",
            "c6e592c8bc2240f494427fd7ac2b8302",
            "d066fddaad9c458c865653b967c16028",
            "bba3db79586c46c2af2b6fc2451a473f",
            "07d1b3b69eae408b8c5eb02d9c4e10af",
            "d008900cb66a4a049cc06367ecc84e42",
            "7f2a647e647e434aa031a330127bd430",
            "c6b55e904e1f442d9ccbf8a1822b56df",
            "48d18e4087cb444fb0f9bb40001e6142",
            "c4d35d68ecae4427a5628b1034c362bc",
            "c62e314d5bcc4f18a789ddeb8cf85bf5",
            "9ca8bce8bb01414097637525863ff85e",
            "02e5b4ffcbc542ce800486dec518c466",
            "1ac7395ac3824636b766742abac2e1c3",
            "00e30f6af1ea402b9f93aef62245e388",
            "df2c58264ffd4210aa8b3ce06490e098",
            "64d5661a75644efdbb7e1d1a822d4591",
            "d00ff917ab414f068bbc3eb291f26c5e",
            "76438fcb037c4d3c80b6cca3e4576d5d",
            "051283adb4ac4221ae7746a6adb2288c",
            "d46709c416b444d8bdd064002f8b3ab7",
            "562b63a0478b47c7bb2da3002c06f873",
            "4f577afe91ac456bafcdf24d9d91cc5b",
            "936480e8bead486eb1ed9f6a72df08dc",
            "8e3785b893b342e6853a1473f8d01a11",
            "574a8ba925f547699b109216cda77ce7",
            "2ae423b6c1914708ba94d5af2b3b556d"
          ]
        },
        "id": "GZ_6l-JgVxYU",
        "outputId": "f75c1d9f-f1e6-4198-ebbf-3384fcc49e53"
      },
      "execution_count": 2,
      "outputs": [
        {
          "output_type": "stream",
          "name": "stdout",
          "text": [
            "Downloading and preparing dataset Unknown size (download: Unknown size, generated: Unknown size, total: Unknown size) to /root/tensorflow_datasets/imagenet_v2/topimages/3.0.0...\n"
          ]
        },
        {
          "output_type": "display_data",
          "data": {
            "text/plain": [
              "Dl Completed...: 0 url [00:00, ? url/s]"
            ],
            "application/vnd.jupyter.widget-view+json": {
              "version_major": 2,
              "version_minor": 0,
              "model_id": "33a6b36194ab42408519976a4359214a"
            }
          },
          "metadata": {}
        },
        {
          "output_type": "display_data",
          "data": {
            "text/plain": [
              "Dl Size...: 0 MiB [00:00, ? MiB/s]"
            ],
            "application/vnd.jupyter.widget-view+json": {
              "version_major": 2,
              "version_minor": 0,
              "model_id": "4e47081f94ba4bc58a44ca1eb60161bb"
            }
          },
          "metadata": {}
        },
        {
          "output_type": "display_data",
          "data": {
            "text/plain": [
              "Extraction completed...: 0 file [00:00, ? file/s]"
            ],
            "application/vnd.jupyter.widget-view+json": {
              "version_major": 2,
              "version_minor": 0,
              "model_id": "2d402786bd3d42ed945ac4fe715f9ead"
            }
          },
          "metadata": {}
        },
        {
          "output_type": "display_data",
          "data": {
            "text/plain": [
              "Generating splits...:   0%|          | 0/1 [00:00<?, ? splits/s]"
            ],
            "application/vnd.jupyter.widget-view+json": {
              "version_major": 2,
              "version_minor": 0,
              "model_id": "c2f9d24b8aa3479ebd1afdbda9113ba5"
            }
          },
          "metadata": {}
        },
        {
          "output_type": "display_data",
          "data": {
            "text/plain": [
              "Generating test examples...: 0 examples [00:00, ? examples/s]"
            ],
            "application/vnd.jupyter.widget-view+json": {
              "version_major": 2,
              "version_minor": 0,
              "model_id": "d008900cb66a4a049cc06367ecc84e42"
            }
          },
          "metadata": {}
        },
        {
          "output_type": "display_data",
          "data": {
            "text/plain": [
              "Shuffling /root/tensorflow_datasets/imagenet_v2/topimages/incomplete.PO8MIC_3.0.0/imagenet_v2-test.tfrecord*..…"
            ],
            "application/vnd.jupyter.widget-view+json": {
              "version_major": 2,
              "version_minor": 0,
              "model_id": "64d5661a75644efdbb7e1d1a822d4591"
            }
          },
          "metadata": {}
        },
        {
          "output_type": "stream",
          "name": "stdout",
          "text": [
            "Dataset imagenet_v2 downloaded and prepared to /root/tensorflow_datasets/imagenet_v2/topimages/3.0.0. Subsequent calls will reuse this data.\n"
          ]
        }
      ]
    },
    {
      "cell_type": "code",
      "source": [
        "#2 Load the 'test' split (10000 images, top‑images variant)\n",
        "tfds_ds = builder.as_dataset(split=\"test\", as_supervised=True)"
      ],
      "metadata": {
        "id": "1YPI6jnCqKu5"
      },
      "execution_count": 3,
      "outputs": []
    },
    {
      "cell_type": "code",
      "source": [
        "#3 Define a tiny IterableDataset wrapper\n",
        "class ImageNetV2TopImages(IterableDataset):\n",
        "    def __init__(self, tfds_dataset, transform=None):\n",
        "        self.ds = tfds_dataset\n",
        "        self.transform = transform\n",
        "\n",
        "    def __iter__(self):\n",
        "        for img, label in tfds.as_numpy(self.ds):\n",
        "            # img: HWC uint8 array, label: int\n",
        "            pil = Image.fromarray(img)\n",
        "            if self.transform:\n",
        "                pil = self.transform(pil)\n",
        "            yield pil, label"
      ],
      "metadata": {
        "id": "2vJVZ3nPrH5f"
      },
      "execution_count": 4,
      "outputs": []
    },
    {
      "cell_type": "code",
      "source": [
        "#4 Torch transforms (same as ResNet expects)\n",
        "preprocess = transforms.Compose([\n",
        "    transforms.Resize(256),\n",
        "    transforms.CenterCrop(224),\n",
        "    transforms.ToTensor(),\n",
        "    transforms.Normalize([0.485,0.456,0.406],\n",
        "                         [0.229,0.224,0.225]),\n",
        "])"
      ],
      "metadata": {
        "id": "2zSfaVnnraYL"
      },
      "execution_count": 5,
      "outputs": []
    },
    {
      "cell_type": "code",
      "source": [
        "#5 Instantiate DataLoader\n",
        "dataset = ImageNetV2TopImages(tfds_ds, transform=preprocess)\n",
        "loader  = DataLoader(dataset, batch_size=1, num_workers=4)"
      ],
      "metadata": {
        "colab": {
          "base_uri": "https://localhost:8080/"
        },
        "id": "UntGOOH3rdNt",
        "outputId": "349e86c6-b95c-4622-a802-8585005ae59e"
      },
      "execution_count": 6,
      "outputs": [
        {
          "output_type": "stream",
          "name": "stderr",
          "text": [
            "/usr/local/lib/python3.11/dist-packages/torch/utils/data/dataloader.py:624: UserWarning: This DataLoader will create 4 worker processes in total. Our suggested max number of worker in current system is 2, which is smaller than what this DataLoader is going to create. Please be aware that excessive worker creation might get DataLoader running slow or even freeze, lower the worker number to avoid potential slowness/freeze if necessary.\n",
            "  warnings.warn(\n"
          ]
        }
      ]
    },
    {
      "cell_type": "code",
      "source": [
        "#Define models and cascade logic\n",
        "import time\n",
        "import torch.nn.functional as F\n",
        "from torchvision import models\n",
        "\n",
        "device = torch.device(\"cuda\" if torch.cuda.is_available() else \"cpu\")\n",
        "\n",
        "# Load pretrained ResNets\n",
        "resnet18  = models.resnet18(pretrained=True).to(device).eval()    #model A\n",
        "resnet34  = models.resnet34(pretrained=True).to(device).eval()    #model B\n",
        "resnet50  = models.resnet50(pretrained=True).to(device).eval()    #model C\n",
        "resnet152 = models.resnet152(pretrained=True).to(device).eval()   #model D\n",
        "\n",
        "# Thresholds\n",
        "THR_A = 0.85 # IDK threshold for model A\n",
        "THR_B = 0.85 # IDK threshold for model B\n",
        "THR_C = 0.85 # IDK threshold for model C\n",
        "\n",
        "def predict(model, x):\n",
        "    logits = model(x)\n",
        "    probs = F.softmax(logits, dim=1)\n",
        "    conf, cls = torch.max(probs, dim=1)\n",
        "    return cls.item(), conf.item()\n",
        "\n",
        "def get_prediction(model, x, thr=None):\n",
        "    cls, conf = predict(model, x)\n",
        "    if thr is not None and conf < thr:\n",
        "        return \"IDK\", conf\n",
        "    return cls, conf\n",
        "\n",
        "def nonskip_abcd_cascade(x):\n",
        "    # A: ResNet18\n",
        "    cls_a, conf_a = get_prediction(resnet18, x, THR_A)\n",
        "    if cls_a != \"IDK\":\n",
        "        return cls_a, conf_a, \"ResNet18\"\n",
        "\n",
        "    # B: ResNet34 (run if A returned IDK)\n",
        "    cls_b, conf_b = get_prediction(resnet34, x, THR_B)\n",
        "    if cls_b != \"IDK\":\n",
        "        return cls_b, conf_b, \"ResNet34\"\n",
        "\n",
        "    # C: ResNet50 (run if B returned IDK)\n",
        "    cls_c, conf_c = get_prediction(resnet50, x, THR_C)\n",
        "    if cls_c != \"IDK\":\n",
        "        return cls_c, conf_c, \"ResNet50\"\n",
        "\n",
        "    # D: ResNet152 (fallback, no threshold)\n",
        "    cls_d, conf_d = predict(resnet152, x)\n",
        "    return cls_d, conf_d, \"ResNet152\""
      ],
      "metadata": {
        "id": "5EcBCL8JsT9G",
        "collapsed": true,
        "colab": {
          "base_uri": "https://localhost:8080/"
        },
        "outputId": "22a49bd1-f3ee-477f-e422-a71ed47dfed8"
      },
      "execution_count": 7,
      "outputs": [
        {
          "output_type": "stream",
          "name": "stderr",
          "text": [
            "/usr/local/lib/python3.11/dist-packages/torchvision/models/_utils.py:208: UserWarning: The parameter 'pretrained' is deprecated since 0.13 and may be removed in the future, please use 'weights' instead.\n",
            "  warnings.warn(\n",
            "/usr/local/lib/python3.11/dist-packages/torchvision/models/_utils.py:223: UserWarning: Arguments other than a weight enum or `None` for 'weights' are deprecated since 0.13 and may be removed in the future. The current behavior is equivalent to passing `weights=ResNet18_Weights.IMAGENET1K_V1`. You can also use `weights=ResNet18_Weights.DEFAULT` to get the most up-to-date weights.\n",
            "  warnings.warn(msg)\n",
            "Downloading: \"https://download.pytorch.org/models/resnet18-f37072fd.pth\" to /root/.cache/torch/hub/checkpoints/resnet18-f37072fd.pth\n",
            "100%|██████████| 44.7M/44.7M [00:00<00:00, 188MB/s]\n",
            "/usr/local/lib/python3.11/dist-packages/torchvision/models/_utils.py:223: UserWarning: Arguments other than a weight enum or `None` for 'weights' are deprecated since 0.13 and may be removed in the future. The current behavior is equivalent to passing `weights=ResNet34_Weights.IMAGENET1K_V1`. You can also use `weights=ResNet34_Weights.DEFAULT` to get the most up-to-date weights.\n",
            "  warnings.warn(msg)\n",
            "Downloading: \"https://download.pytorch.org/models/resnet34-b627a593.pth\" to /root/.cache/torch/hub/checkpoints/resnet34-b627a593.pth\n",
            "100%|██████████| 83.3M/83.3M [00:00<00:00, 91.1MB/s]\n",
            "/usr/local/lib/python3.11/dist-packages/torchvision/models/_utils.py:223: UserWarning: Arguments other than a weight enum or `None` for 'weights' are deprecated since 0.13 and may be removed in the future. The current behavior is equivalent to passing `weights=ResNet50_Weights.IMAGENET1K_V1`. You can also use `weights=ResNet50_Weights.DEFAULT` to get the most up-to-date weights.\n",
            "  warnings.warn(msg)\n",
            "Downloading: \"https://download.pytorch.org/models/resnet50-0676ba61.pth\" to /root/.cache/torch/hub/checkpoints/resnet50-0676ba61.pth\n",
            "100%|██████████| 97.8M/97.8M [00:03<00:00, 33.0MB/s]\n",
            "/usr/local/lib/python3.11/dist-packages/torchvision/models/_utils.py:223: UserWarning: Arguments other than a weight enum or `None` for 'weights' are deprecated since 0.13 and may be removed in the future. The current behavior is equivalent to passing `weights=ResNet152_Weights.IMAGENET1K_V1`. You can also use `weights=ResNet152_Weights.DEFAULT` to get the most up-to-date weights.\n",
            "  warnings.warn(msg)\n",
            "Downloading: \"https://download.pytorch.org/models/resnet152-394f9c45.pth\" to /root/.cache/torch/hub/checkpoints/resnet152-394f9c45.pth\n",
            "100%|██████████| 230M/230M [00:02<00:00, 83.9MB/s]\n"
          ]
        }
      ]
    },
    {
      "cell_type": "code",
      "source": [
        "from collections import Counter\n",
        "import time\n",
        "\n",
        "# Prepare counters\n",
        "branch_sum = Counter()\n",
        "branch_cnt = Counter()\n",
        "\n",
        "# RUN & EVALUATE\n",
        "MAX_IMAGES = 10000\n",
        "total      = 0\n",
        "correct    = 0\n",
        "sum_time   = 0.0\n",
        "\n",
        "for imgs, labels in loader:\n",
        "    total += 1\n",
        "    imgs, labels = imgs.to(device), labels.to(device)\n",
        "\n",
        "    start = time.time()\n",
        "    pred, conf, branch = nonskip_abcd_cascade(imgs)\n",
        "    elapsed = time.time() - start\n",
        "\n",
        "    # Update overall stats\n",
        "    correct += (pred == labels.item())\n",
        "    sum_time += elapsed\n",
        "\n",
        "    # Update branch‑specific stats\n",
        "    branch_sum[branch] += elapsed\n",
        "    branch_cnt[branch] += 1\n",
        "\n",
        "    # Light logging\n",
        "    if total % 500 == 0:\n",
        "        print(f\"[{total:5d}] Pred={pred:4d}  Used={branch:<20s}  Time={elapsed*1000:.1f}ms\")\n",
        "\n",
        "    if total >= MAX_IMAGES:\n",
        "        break\n",
        "\n",
        "# Core metrics\n",
        "accuracy  = correct / total\n",
        "avg_time  = sum_time / total\n",
        "\n",
        "# Print summary\n",
        "print(\"\\n=== SUMMARY ===\")\n",
        "print(f\"Total images        : {total}\")\n",
        "print(f\"Accuracy            : {accuracy*100:.2f}%\")\n",
        "print(f\"Avg. time per input : {avg_time*1000:.1f} ms\")\n",
        "\n",
        "# Per‑branch breakdown\n",
        "for branch, cnt in branch_cnt.items():\n",
        "    t = branch_sum[branch]\n",
        "    print(f\"  {branch:>20s} | Count: {cnt:5d} | Avg time: {t/cnt*1000:.1f} ms\")"
      ],
      "metadata": {
        "colab": {
          "base_uri": "https://localhost:8080/"
        },
        "collapsed": true,
        "id": "fZ_WQ3qshmk1",
        "outputId": "f7e108d9-8300-49bb-9dfc-a6bbde8cf1a5"
      },
      "execution_count": 8,
      "outputs": [
        {
          "output_type": "stream",
          "name": "stdout",
          "text": [
            "[  500] Pred= 230  Used=ResNet152             Time=39.2ms\n",
            "[ 1000] Pred= 225  Used=ResNet34              Time=12.4ms\n",
            "[ 1500] Pred=  35  Used=ResNet18              Time=4.6ms\n",
            "[ 2000] Pred= 244  Used=ResNet18              Time=5.0ms\n",
            "[ 2500] Pred= 763  Used=ResNet152             Time=43.9ms\n",
            "[ 3000] Pred= 420  Used=ResNet18              Time=4.5ms\n",
            "[ 3500] Pred= 404  Used=ResNet152             Time=43.7ms\n",
            "[ 4000] Pred= 700  Used=ResNet152             Time=56.7ms\n",
            "[ 4500] Pred=  17  Used=ResNet18              Time=4.8ms\n",
            "[ 5000] Pred= 200  Used=ResNet152             Time=64.9ms\n",
            "[ 5500] Pred= 429  Used=ResNet50              Time=34.8ms\n",
            "[ 6000] Pred= 457  Used=ResNet18              Time=5.0ms\n",
            "[ 6500] Pred= 939  Used=ResNet152             Time=47.6ms\n",
            "[ 7000] Pred= 710  Used=ResNet18              Time=4.1ms\n",
            "[ 7500] Pred= 977  Used=ResNet152             Time=42.7ms\n",
            "[ 8000] Pred= 914  Used=ResNet152             Time=47.7ms\n",
            "[ 8500] Pred= 760  Used=ResNet18              Time=5.2ms\n",
            "[ 9000] Pred= 685  Used=ResNet18              Time=4.6ms\n",
            "[ 9500] Pred= 930  Used=ResNet152             Time=43.2ms\n",
            "[10000] Pred= 900  Used=ResNet152             Time=40.8ms\n",
            "\n",
            "=== SUMMARY ===\n",
            "Total images        : 10000\n",
            "Accuracy            : 80.20%\n",
            "Avg. time per input : 22.4 ms\n",
            "             ResNet152 | Count:  3272 | Avg time: 49.5 ms\n",
            "              ResNet50 | Count:   752 | Avg time: 23.9 ms\n",
            "              ResNet18 | Count:  4712 | Avg time: 5.7 ms\n",
            "              ResNet34 | Count:  1264 | Avg time: 13.8 ms\n"
          ]
        }
      ]
    },
    {
      "cell_type": "code",
      "source": [],
      "metadata": {
        "id": "OADjEm0jKD0t"
      },
      "execution_count": null,
      "outputs": []
    }
  ]
}
